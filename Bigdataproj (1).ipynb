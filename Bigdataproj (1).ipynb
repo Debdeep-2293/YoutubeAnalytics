{
  "nbformat": 4,
  "nbformat_minor": 0,
  "metadata": {
    "colab": {
      "name": "Bigdataproj",
      "provenance": [],
      "collapsed_sections": [],
      "toc_visible": true
    },
    "kernelspec": {
      "name": "python3",
      "display_name": "Python 3"
    }
  },
  "cells": [
    {
      "cell_type": "markdown",
      "metadata": {
        "id": "rwWbGDf78mIB"
      },
      "source": [
        "### **IDS 561 YouTube Trending Analytics**"
      ]
    },
    {
      "cell_type": "code",
      "metadata": {
        "colab": {
          "base_uri": "https://localhost:8080/"
        },
        "id": "OEteF-qs4i-3",
        "outputId": "ff7d9be1-009e-4841-fb75-68db777536ed"
      },
      "source": [
        "# Accessing the file in drive by mounting Google drive in runtime's virtual machine\n",
        "\n",
        "from google.colab import drive\n",
        "drive.mount('/content/drive')"
      ],
      "execution_count": 1,
      "outputs": [
        {
          "output_type": "stream",
          "text": [
            "Mounted at /content/drive\n"
          ],
          "name": "stdout"
        }
      ]
    },
    {
      "cell_type": "code",
      "metadata": {
        "id": "DJDnK70p5D7k"
      },
      "source": [
        "# Install pyspark\n",
        "!apt-get install openjdk-8-jdk-headless -qq > /dev/null\n",
        "!wget -q https://downloads.apache.org/spark/spark-3.0.1/spark-3.0.1-bin-hadoop3.2.tgz  \n",
        "!tar -xvf spark-3.0.1-bin-hadoop3.2.tgz\n",
        "!pip install -q findspark"
      ],
      "execution_count": null,
      "outputs": []
    },
    {
      "cell_type": "code",
      "metadata": {
        "id": "c049HviN5SXb"
      },
      "source": [
        "# Install findspark and untar spark\n",
        "!pip install pyspark\n",
        "!pip install findspark"
      ],
      "execution_count": null,
      "outputs": []
    },
    {
      "cell_type": "code",
      "metadata": {
        "id": "z1vpTfT15XjE"
      },
      "source": [
        "# Setting up the environment\n",
        "import os\n",
        "os.environ[\"JAVA_HOME\"] = \"/usr/lib/jvm/java-8-openjdk-amd64\"\n",
        "os.environ[\"SPARK_HOME\"] = \"/content/spark-3.0.1-bin-hadoop3.2\""
      ],
      "execution_count": 4,
      "outputs": []
    },
    {
      "cell_type": "code",
      "metadata": {
        "id": "ptNCYQGa5bpt"
      },
      "source": [
        "# Create Spark session and sqlContext\n",
        "\n",
        "import findspark\n",
        "findspark.init()\n",
        "\n",
        "from pyspark.sql import SparkSession\n",
        "import pyspark.sql.functions as F\n",
        "spark = SparkSession.builder.master(\"local[*]\").getOrCreate()\n",
        "from pyspark.sql import SQLContext\n",
        "from pyspark import SparkContext\n",
        "sc =SparkContext.getOrCreate()\n",
        "sqlContext = SQLContext(sc)"
      ],
      "execution_count": 5,
      "outputs": []
    },
    {
      "cell_type": "code",
      "metadata": {
        "id": "IJTNdNBQ5cfU",
        "colab": {
          "base_uri": "https://localhost:8080/"
        },
        "outputId": "4598a1cb-e047-4342-bb0a-402b6bb5e28b"
      },
      "source": [
        "# Importing necessary libraries\n",
        "\n",
        "import pandas as pd\n",
        "import numpy as np\n",
        "import nltk\n",
        "from nltk.tokenize import word_tokenize,RegexpTokenizer\n",
        "import re\n",
        "import itertools \n",
        "from collections import Counter\n",
        "from string import punctuation\n",
        "from itertools import groupby\n",
        "from operator import itemgetter\n",
        "\n",
        "from textblob import TextBlob\n",
        "nltk.download('punkt')\n",
        "\n",
        "#Visualization packages\n",
        "import matplotlib.pyplot as plt\n",
        "import seaborn as sns\n"
      ],
      "execution_count": 6,
      "outputs": [
        {
          "output_type": "stream",
          "text": [
            "[nltk_data] Downloading package punkt to /root/nltk_data...\n",
            "[nltk_data]   Unzipping tokenizers/punkt.zip.\n"
          ],
          "name": "stdout"
        }
      ]
    },
    {
      "cell_type": "code",
      "metadata": {
        "colab": {
          "base_uri": "https://localhost:8080/"
        },
        "id": "p4bFFGNm5e67",
        "outputId": "8a4231e2-c51c-4fa7-bd53-774a70a28151"
      },
      "source": [
        "# Importing the dataset\n",
        "USData = spark.read.csv('/content/drive/My Drive/USvideos.csv', inferSchema=True, header=True)\n",
        "USData.show()"
      ],
      "execution_count": 8,
      "outputs": [
        {
          "output_type": "stream",
          "text": [
            "+-----------+-------------+--------------------+--------------------+-----------+--------------------+--------------------+-------+------+--------+-------------+--------------------+-----------------+----------------+----------------------+--------------------+\n",
            "|   video_id|trending_date|               title|       channel_title|category_id|        publish_time|                tags|  views| likes|dislikes|comment_count|      thumbnail_link|comments_disabled|ratings_disabled|video_error_or_removed|         description|\n",
            "+-----------+-------------+--------------------+--------------------+-----------+--------------------+--------------------+-------+------+--------+-------------+--------------------+-----------------+----------------+----------------------+--------------------+\n",
            "|2kyS6SvSYSE|     17.14.11|WE WANT TO TALK A...|        CaseyNeistat|         22|2017-11-13T17:13:...|     SHANtell martin| 748374| 57527|    2966|        15954|https://i.ytimg.c...|            False|           False|                 False|SHANTELL'S CHANNE...|\n",
            "|1ZAPwfrtAFY|     17.14.11|The Trump Preside...|     LastWeekTonight|         24|2017-11-13T07:30:...|\"last week tonigh...|2418783| 97185|    6146|        12703|https://i.ytimg.c...|            False|           False|                 False|One year after th...|\n",
            "|5qpjK5DgCt4|     17.14.11|Racist Superman |...|        Rudy Mancuso|         23|2017-11-12T19:05:...|\"racist superman\"...|3191434|146033|    5339|         8181|https://i.ytimg.c...|            False|           False|                 False|WATCH MY PREVIOUS...|\n",
            "|puqaWrEC7tY|     17.14.11|Nickelback Lyrics...|Good Mythical Mor...|         24|2017-11-13T11:00:...|\"rhett and link\"|...| 343168| 10172|     666|         2146|https://i.ytimg.c...|            False|           False|                 False|Today we find out...|\n",
            "|d380meD0W0M|     17.14.11|I Dare You: GOING...|            nigahiga|         24|2017-11-12T18:01:...|\"ryan\"|\"higa\"|\"hi...|2095731|132235|    1989|        17518|https://i.ytimg.c...|            False|           False|                 False|I know it's been ...|\n",
            "|gHZ1Qz0KiKM|     17.14.11|2 Weeks with iPho...|            iJustine|         28|2017-11-13T19:07:...|\"ijustine\"|\"week ...| 119180|  9763|     511|         1434|https://i.ytimg.c...|            False|           False|                 False|Using the iPhone ...|\n",
            "|39idVpFF7NQ|     17.14.11|Roy Moore & Jeff ...| Saturday Night Live|         24|2017-11-12T05:37:...|\"SNL\"|\"Saturday N...|2103417| 15993|    2445|         1970|https://i.ytimg.c...|            False|           False|                 False|Embattled Alabama...|\n",
            "|nc99ccSXST0|     17.14.11|5 Ice Cream Gadge...|  CrazyRussianHacker|         28|2017-11-12T21:50:...|\"5 Ice Cream Gadg...| 817732| 23663|     778|         3432|https://i.ytimg.c...|            False|           False|                 False|Ice Cream Pint Co...|\n",
            "|jr9QtXwC9vc|     17.14.11|The Greatest Show...|    20th Century Fox|          1|2017-11-13T14:00:...|\"Trailer\"|\"Hugh J...| 826059|  3543|     119|          340|https://i.ytimg.c...|            False|           False|                 False|Inspired by the i...|\n",
            "|TUmyygCMMGA|     17.14.11|Why the rise of t...|                 Vox|         25|2017-11-13T13:45:...|\"vox.com\"|\"vox\"|\"...| 256426| 12654|    1363|         2368|https://i.ytimg.c...|            False|           False|                 False|For now, at least...|\n",
            "|9wRQljFNDW8|     17.14.11|Dion Lewis' 103-Y...|                 NFL|         17|2017-11-13T02:05:...|\"NFL\"|\"Football\"|...|  81377|   655|      25|          177|https://i.ytimg.c...|            False|           False|                 False|New England Patri...|\n",
            "|VifQlJit6A0|     17.14.11|(SPOILERS) 'Shiva...|                 amc|         24|2017-11-13T03:00:...|\"The Walking Dead...| 104578|  1576|     303|         1279|https://i.ytimg.c...|            False|           False|                 False|Shiva arrives jus...|\n",
            "|5E4ZBSInqUU|     17.14.11|Marshmello - Bloc...|          marshmello|         10|2017-11-13T17:00:...|\"marshmello\"|\"blo...| 687582|114188|    1333|         8371|https://i.ytimg.c...|            False|           False|                 False|WATCH SILENCE MUS...|\n",
            "|GgVmn66oK_A|     17.14.11|Which Countries A...|       NowThis World|         25|2017-11-12T14:00:...|\"nowthis\"|\"nowthi...| 544770|  7848|    1171|         3981|https://i.ytimg.c...|            False|           False|                 False|The world at larg...|\n",
            "|TaTleo4cOs8|     17.14.11|SHOPPING FOR NEW ...|     The king of DIY|         15|2017-11-12T18:30:...|\"shopping for new...| 207532|  7473|     246|         2120|https://i.ytimg.c...|            False|           False|                 False|Today we go shopp...|\n",
            "|kgaO45SyaO4|     17.14.11|    The New SpotMini|      BostonDynamics|         28|2017-11-13T20:09:...|\"Robots\"|\"Boston ...|  75752|  9419|      52|         1230|https://i.ytimg.c...|            False|           False|                 False|For more informat...|\n",
            "|ZAQs-ctOqXQ|     17.14.11|One Change That W...|             Cracked|         23|2017-11-12T17:00:...|\"pacific rim\"|\"pa...| 295639|  8011|     638|         1256|https://i.ytimg.c...|            False|           False|                 False|Pacific Rim was s...|\n",
            "|YVfyYrEmzgM|     17.14.11|How does your bod...|              TED-Ed|         27|2017-11-13T16:00:...|\"TED\"|\"TED-Ed\"|\"T...|  78044|  5398|      53|          385|https://i.ytimg.c...|            False|           False|                 False|Check out our Pat...|\n",
            "|eNSN6qet1kE|     17.14.11|HomeMade Electric...|         PeterSripol|         28|2017-11-13T15:30:...|\"ultralight\"|\"air...|  97007| 11963|      36|         2211|https://i.ytimg.c...|            False|           False|                 False|aaaannnd now to f...|\n",
            "|B5HORANmzHw|     17.14.11|Founding An Inbre...|             SciShow|         27|2017-11-12T22:00:...|\"SciShow\"|\"scienc...| 223871|  8421|     191|         1214|https://i.ytimg.c...|            False|           False|                 False|Thanks to 23AndMe...|\n",
            "+-----------+-------------+--------------------+--------------------+-----------+--------------------+--------------------+-------+------+--------+-------------+--------------------+-----------------+----------------+----------------------+--------------------+\n",
            "only showing top 20 rows\n",
            "\n"
          ],
          "name": "stdout"
        }
      ]
    },
    {
      "cell_type": "code",
      "metadata": {
        "colab": {
          "base_uri": "https://localhost:8080/"
        },
        "id": "d44yFzGa6Wul",
        "outputId": "fc963dba-dbd6-4922-e48e-94a64c5e1767"
      },
      "source": [
        "# Extracting Description\n",
        "USsenti = USData.select('video_id','description')\n",
        "USsenti.show()"
      ],
      "execution_count": 81,
      "outputs": [
        {
          "output_type": "stream",
          "text": [
            "+-----------+--------------------+\n",
            "|   video_id|         description|\n",
            "+-----------+--------------------+\n",
            "|2kyS6SvSYSE|SHANTELL'S CHANNE...|\n",
            "|1ZAPwfrtAFY|One year after th...|\n",
            "|5qpjK5DgCt4|WATCH MY PREVIOUS...|\n",
            "|puqaWrEC7tY|Today we find out...|\n",
            "|d380meD0W0M|I know it's been ...|\n",
            "|gHZ1Qz0KiKM|Using the iPhone ...|\n",
            "|39idVpFF7NQ|Embattled Alabama...|\n",
            "|nc99ccSXST0|Ice Cream Pint Co...|\n",
            "|jr9QtXwC9vc|Inspired by the i...|\n",
            "|TUmyygCMMGA|For now, at least...|\n",
            "|9wRQljFNDW8|New England Patri...|\n",
            "|VifQlJit6A0|Shiva arrives jus...|\n",
            "|5E4ZBSInqUU|WATCH SILENCE MUS...|\n",
            "|GgVmn66oK_A|The world at larg...|\n",
            "|TaTleo4cOs8|Today we go shopp...|\n",
            "|kgaO45SyaO4|For more informat...|\n",
            "|ZAQs-ctOqXQ|Pacific Rim was s...|\n",
            "|YVfyYrEmzgM|Check out our Pat...|\n",
            "|eNSN6qet1kE|aaaannnd now to f...|\n",
            "|B5HORANmzHw|Thanks to 23AndMe...|\n",
            "+-----------+--------------------+\n",
            "only showing top 20 rows\n",
            "\n"
          ],
          "name": "stdout"
        }
      ]
    },
    {
      "cell_type": "code",
      "metadata": {
        "colab": {
          "base_uri": "https://localhost:8080/"
        },
        "id": "1ux2gYD3CVL5",
        "outputId": "6934ed5c-247e-4e1e-c581-98fd424989dc"
      },
      "source": [
        "# Removing None\n",
        "USDesc = USsenti[USsenti['description']!=\"None\"]\n",
        "USDesc.show()"
      ],
      "execution_count": 10,
      "outputs": [
        {
          "output_type": "stream",
          "text": [
            "+-----------+--------------------+\n",
            "|   video_id|         description|\n",
            "+-----------+--------------------+\n",
            "|2kyS6SvSYSE|SHANTELL'S CHANNE...|\n",
            "|1ZAPwfrtAFY|One year after th...|\n",
            "|5qpjK5DgCt4|WATCH MY PREVIOUS...|\n",
            "|puqaWrEC7tY|Today we find out...|\n",
            "|d380meD0W0M|I know it's been ...|\n",
            "|gHZ1Qz0KiKM|Using the iPhone ...|\n",
            "|39idVpFF7NQ|Embattled Alabama...|\n",
            "|nc99ccSXST0|Ice Cream Pint Co...|\n",
            "|jr9QtXwC9vc|Inspired by the i...|\n",
            "|TUmyygCMMGA|For now, at least...|\n",
            "|9wRQljFNDW8|New England Patri...|\n",
            "|VifQlJit6A0|Shiva arrives jus...|\n",
            "|5E4ZBSInqUU|WATCH SILENCE MUS...|\n",
            "|GgVmn66oK_A|The world at larg...|\n",
            "|TaTleo4cOs8|Today we go shopp...|\n",
            "|kgaO45SyaO4|For more informat...|\n",
            "|ZAQs-ctOqXQ|Pacific Rim was s...|\n",
            "|YVfyYrEmzgM|Check out our Pat...|\n",
            "|eNSN6qet1kE|aaaannnd now to f...|\n",
            "|B5HORANmzHw|Thanks to 23AndMe...|\n",
            "+-----------+--------------------+\n",
            "only showing top 20 rows\n",
            "\n"
          ],
          "name": "stdout"
        }
      ]
    },
    {
      "cell_type": "code",
      "metadata": {
        "colab": {
          "base_uri": "https://localhost:8080/"
        },
        "id": "eeDk5om3CpMl",
        "outputId": "dbe1eeb2-9adf-4132-e4db-2384080e14c1"
      },
      "source": [
        "USDescPandas = USDesc.toPandas()\n",
        "USDescPandas.shape"
      ],
      "execution_count": 11,
      "outputs": [
        {
          "output_type": "execute_result",
          "data": {
            "text/plain": [
              "(40390, 2)"
            ]
          },
          "metadata": {
            "tags": []
          },
          "execution_count": 11
        }
      ]
    },
    {
      "cell_type": "code",
      "metadata": {
        "id": "moJoDRk4OHgp"
      },
      "source": [
        "# Calculating the Sentiment Polarity of Description\n",
        "\n",
        "pol=[] # list which will contain the polarity of the comments\n",
        "for i in USDescPandas.description.values:\n",
        "    try:\n",
        "        analysis =TextBlob(i)\n",
        "        pol.append(analysis.sentiment.polarity)\n",
        "        \n",
        "    except:\n",
        "        pol.append(0)"
      ],
      "execution_count": 12,
      "outputs": []
    },
    {
      "cell_type": "code",
      "metadata": {
        "id": "INlhGRyvPm5g"
      },
      "source": [
        "USDescPandas['pol']= pol"
      ],
      "execution_count": 13,
      "outputs": []
    },
    {
      "cell_type": "code",
      "metadata": {
        "colab": {
          "base_uri": "https://localhost:8080/",
          "height": 359
        },
        "id": "4aeIubeSciBb",
        "outputId": "575f069b-14e8-4075-eddb-c1f0e1392f72"
      },
      "source": [
        "USDescPandas.head(10)"
      ],
      "execution_count": 14,
      "outputs": [
        {
          "output_type": "execute_result",
          "data": {
            "text/html": [
              "<div>\n",
              "<style scoped>\n",
              "    .dataframe tbody tr th:only-of-type {\n",
              "        vertical-align: middle;\n",
              "    }\n",
              "\n",
              "    .dataframe tbody tr th {\n",
              "        vertical-align: top;\n",
              "    }\n",
              "\n",
              "    .dataframe thead th {\n",
              "        text-align: right;\n",
              "    }\n",
              "</style>\n",
              "<table border=\"1\" class=\"dataframe\">\n",
              "  <thead>\n",
              "    <tr style=\"text-align: right;\">\n",
              "      <th></th>\n",
              "      <th>video_id</th>\n",
              "      <th>description</th>\n",
              "      <th>pol</th>\n",
              "    </tr>\n",
              "  </thead>\n",
              "  <tbody>\n",
              "    <tr>\n",
              "      <th>0</th>\n",
              "      <td>2kyS6SvSYSE</td>\n",
              "      <td>SHANTELL'S CHANNEL - https://www.youtube.com/s...</td>\n",
              "      <td>-0.166667</td>\n",
              "    </tr>\n",
              "    <tr>\n",
              "      <th>1</th>\n",
              "      <td>1ZAPwfrtAFY</td>\n",
              "      <td>One year after the presidential election, John...</td>\n",
              "      <td>0.079167</td>\n",
              "    </tr>\n",
              "    <tr>\n",
              "      <th>2</th>\n",
              "      <td>5qpjK5DgCt4</td>\n",
              "      <td>WATCH MY PREVIOUS VIDEO ▶ \\n\\nSUBSCRIBE ► http...</td>\n",
              "      <td>0.145833</td>\n",
              "    </tr>\n",
              "    <tr>\n",
              "      <th>3</th>\n",
              "      <td>puqaWrEC7tY</td>\n",
              "      <td>Today we find out if Link is a Nickelback amat...</td>\n",
              "      <td>-0.017330</td>\n",
              "    </tr>\n",
              "    <tr>\n",
              "      <th>4</th>\n",
              "      <td>d380meD0W0M</td>\n",
              "      <td>I know it's been a while since we did this sho...</td>\n",
              "      <td>0.459091</td>\n",
              "    </tr>\n",
              "    <tr>\n",
              "      <th>5</th>\n",
              "      <td>gHZ1Qz0KiKM</td>\n",
              "      <td>Using the iPhone for the past two weeks -- her...</td>\n",
              "      <td>0.160156</td>\n",
              "    </tr>\n",
              "    <tr>\n",
              "      <th>6</th>\n",
              "      <td>39idVpFF7NQ</td>\n",
              "      <td>Embattled Alabama Senate candidate Roy Moore (...</td>\n",
              "      <td>0.275000</td>\n",
              "    </tr>\n",
              "    <tr>\n",
              "      <th>7</th>\n",
              "      <td>nc99ccSXST0</td>\n",
              "      <td>Ice Cream Pint Combination Lock - http://amzn....</td>\n",
              "      <td>-0.125000</td>\n",
              "    </tr>\n",
              "    <tr>\n",
              "      <th>8</th>\n",
              "      <td>jr9QtXwC9vc</td>\n",
              "      <td>Inspired by the imagination of P.T. Barnum, Th...</td>\n",
              "      <td>0.363725</td>\n",
              "    </tr>\n",
              "    <tr>\n",
              "      <th>9</th>\n",
              "      <td>TUmyygCMMGA</td>\n",
              "      <td>For now, at least, we have better things to wo...</td>\n",
              "      <td>0.071667</td>\n",
              "    </tr>\n",
              "  </tbody>\n",
              "</table>\n",
              "</div>"
            ],
            "text/plain": [
              "      video_id                                        description       pol\n",
              "0  2kyS6SvSYSE  SHANTELL'S CHANNEL - https://www.youtube.com/s... -0.166667\n",
              "1  1ZAPwfrtAFY  One year after the presidential election, John...  0.079167\n",
              "2  5qpjK5DgCt4  WATCH MY PREVIOUS VIDEO ▶ \\n\\nSUBSCRIBE ► http...  0.145833\n",
              "3  puqaWrEC7tY  Today we find out if Link is a Nickelback amat... -0.017330\n",
              "4  d380meD0W0M  I know it's been a while since we did this sho...  0.459091\n",
              "5  gHZ1Qz0KiKM  Using the iPhone for the past two weeks -- her...  0.160156\n",
              "6  39idVpFF7NQ  Embattled Alabama Senate candidate Roy Moore (...  0.275000\n",
              "7  nc99ccSXST0  Ice Cream Pint Combination Lock - http://amzn.... -0.125000\n",
              "8  jr9QtXwC9vc  Inspired by the imagination of P.T. Barnum, Th...  0.363725\n",
              "9  TUmyygCMMGA  For now, at least, we have better things to wo...  0.071667"
            ]
          },
          "metadata": {
            "tags": []
          },
          "execution_count": 14
        }
      ]
    },
    {
      "cell_type": "code",
      "metadata": {
        "colab": {
          "base_uri": "https://localhost:8080/"
        },
        "id": "We30_r2rQpk_",
        "outputId": "08f0e380-c3f4-4b43-a854-498e2188d36c"
      },
      "source": [
        "USDescPandas.pol.value_counts()"
      ],
      "execution_count": 15,
      "outputs": [
        {
          "output_type": "execute_result",
          "data": {
            "text/plain": [
              "0.000000    4063\n",
              "0.500000     944\n",
              "0.250000     682\n",
              "0.400000     517\n",
              "0.136364     360\n",
              "            ... \n",
              "0.284343       1\n",
              "0.254545       1\n",
              "0.235795       1\n",
              "0.083442       1\n",
              "0.100794       1\n",
              "Name: pol, Length: 3707, dtype: int64"
            ]
          },
          "metadata": {
            "tags": []
          },
          "execution_count": 15
        }
      ]
    },
    {
      "cell_type": "code",
      "metadata": {
        "id": "Qw9s2eMbJ7Ax",
        "colab": {
          "base_uri": "https://localhost:8080/",
          "height": 1000
        },
        "outputId": "13b24fdd-29f5-473d-8c35-a36feb970d4d"
      },
      "source": [
        "# Converting to the desired type\n",
        "UsDataPn=USData.toPandas()\n",
        "UsDataPn['views']=pd.to_numeric(UsDataPn['views'], errors='coerce')\n",
        "UsDataPn['likes']=pd.to_numeric(UsDataPn['likes'], errors='coerce')\n",
        "UsDataPn['dislikes']=pd.to_numeric(UsDataPn['dislikes'], errors='coerce')\n",
        "UsDataPn['comment_count']=pd.to_numeric(UsDataPn['comment_count'], errors='coerce')\n",
        "UsDataPn=UsDataPn.dropna()\n",
        "UsDataPn['descPol']=USDescPandas['pol']\n",
        "UsDataPn['ldr']=UsDataPn['likes']/UsDataPn['dislikes']\n",
        "UsDataPn['liker']=UsDataPn['likes']/UsDataPn['views']\n",
        "UsDataPn['commr']=UsDataPn['comment_count']/UsDataPn['views']\n",
        "UsDataPn"
      ],
      "execution_count": 16,
      "outputs": [
        {
          "output_type": "execute_result",
          "data": {
            "text/html": [
              "<div>\n",
              "<style scoped>\n",
              "    .dataframe tbody tr th:only-of-type {\n",
              "        vertical-align: middle;\n",
              "    }\n",
              "\n",
              "    .dataframe tbody tr th {\n",
              "        vertical-align: top;\n",
              "    }\n",
              "\n",
              "    .dataframe thead th {\n",
              "        text-align: right;\n",
              "    }\n",
              "</style>\n",
              "<table border=\"1\" class=\"dataframe\">\n",
              "  <thead>\n",
              "    <tr style=\"text-align: right;\">\n",
              "      <th></th>\n",
              "      <th>video_id</th>\n",
              "      <th>trending_date</th>\n",
              "      <th>title</th>\n",
              "      <th>channel_title</th>\n",
              "      <th>category_id</th>\n",
              "      <th>publish_time</th>\n",
              "      <th>tags</th>\n",
              "      <th>views</th>\n",
              "      <th>likes</th>\n",
              "      <th>dislikes</th>\n",
              "      <th>comment_count</th>\n",
              "      <th>thumbnail_link</th>\n",
              "      <th>comments_disabled</th>\n",
              "      <th>ratings_disabled</th>\n",
              "      <th>video_error_or_removed</th>\n",
              "      <th>description</th>\n",
              "      <th>descPol</th>\n",
              "      <th>ldr</th>\n",
              "      <th>liker</th>\n",
              "      <th>commr</th>\n",
              "    </tr>\n",
              "  </thead>\n",
              "  <tbody>\n",
              "    <tr>\n",
              "      <th>0</th>\n",
              "      <td>2kyS6SvSYSE</td>\n",
              "      <td>17.14.11</td>\n",
              "      <td>WE WANT TO TALK ABOUT OUR MARRIAGE</td>\n",
              "      <td>CaseyNeistat</td>\n",
              "      <td>22</td>\n",
              "      <td>2017-11-13T17:13:01.000Z</td>\n",
              "      <td>SHANtell martin</td>\n",
              "      <td>748374.0</td>\n",
              "      <td>57527.0</td>\n",
              "      <td>2966.0</td>\n",
              "      <td>15954.0</td>\n",
              "      <td>https://i.ytimg.com/vi/2kyS6SvSYSE/default.jpg</td>\n",
              "      <td>False</td>\n",
              "      <td>False</td>\n",
              "      <td>False</td>\n",
              "      <td>SHANTELL'S CHANNEL - https://www.youtube.com/s...</td>\n",
              "      <td>-0.166667</td>\n",
              "      <td>19.395482</td>\n",
              "      <td>0.076869</td>\n",
              "      <td>0.021318</td>\n",
              "    </tr>\n",
              "    <tr>\n",
              "      <th>1</th>\n",
              "      <td>1ZAPwfrtAFY</td>\n",
              "      <td>17.14.11</td>\n",
              "      <td>The Trump Presidency: Last Week Tonight with J...</td>\n",
              "      <td>LastWeekTonight</td>\n",
              "      <td>24</td>\n",
              "      <td>2017-11-13T07:30:00.000Z</td>\n",
              "      <td>\"last week tonight trump presidency\"|\"last wee...</td>\n",
              "      <td>2418783.0</td>\n",
              "      <td>97185.0</td>\n",
              "      <td>6146.0</td>\n",
              "      <td>12703.0</td>\n",
              "      <td>https://i.ytimg.com/vi/1ZAPwfrtAFY/default.jpg</td>\n",
              "      <td>False</td>\n",
              "      <td>False</td>\n",
              "      <td>False</td>\n",
              "      <td>One year after the presidential election, John...</td>\n",
              "      <td>0.079167</td>\n",
              "      <td>15.812724</td>\n",
              "      <td>0.040179</td>\n",
              "      <td>0.005252</td>\n",
              "    </tr>\n",
              "    <tr>\n",
              "      <th>2</th>\n",
              "      <td>5qpjK5DgCt4</td>\n",
              "      <td>17.14.11</td>\n",
              "      <td>Racist Superman | Rudy Mancuso, King Bach &amp; Le...</td>\n",
              "      <td>Rudy Mancuso</td>\n",
              "      <td>23</td>\n",
              "      <td>2017-11-12T19:05:24.000Z</td>\n",
              "      <td>\"racist superman\"|\"rudy\"|\"mancuso\"|\"king\"|\"bac...</td>\n",
              "      <td>3191434.0</td>\n",
              "      <td>146033.0</td>\n",
              "      <td>5339.0</td>\n",
              "      <td>8181.0</td>\n",
              "      <td>https://i.ytimg.com/vi/5qpjK5DgCt4/default.jpg</td>\n",
              "      <td>False</td>\n",
              "      <td>False</td>\n",
              "      <td>False</td>\n",
              "      <td>WATCH MY PREVIOUS VIDEO ▶ \\n\\nSUBSCRIBE ► http...</td>\n",
              "      <td>0.145833</td>\n",
              "      <td>27.352126</td>\n",
              "      <td>0.045758</td>\n",
              "      <td>0.002563</td>\n",
              "    </tr>\n",
              "    <tr>\n",
              "      <th>3</th>\n",
              "      <td>puqaWrEC7tY</td>\n",
              "      <td>17.14.11</td>\n",
              "      <td>Nickelback Lyrics: Real or Fake?</td>\n",
              "      <td>Good Mythical Morning</td>\n",
              "      <td>24</td>\n",
              "      <td>2017-11-13T11:00:04.000Z</td>\n",
              "      <td>\"rhett and link\"|\"gmm\"|\"good mythical morning\"...</td>\n",
              "      <td>343168.0</td>\n",
              "      <td>10172.0</td>\n",
              "      <td>666.0</td>\n",
              "      <td>2146.0</td>\n",
              "      <td>https://i.ytimg.com/vi/puqaWrEC7tY/default.jpg</td>\n",
              "      <td>False</td>\n",
              "      <td>False</td>\n",
              "      <td>False</td>\n",
              "      <td>Today we find out if Link is a Nickelback amat...</td>\n",
              "      <td>-0.017330</td>\n",
              "      <td>15.273273</td>\n",
              "      <td>0.029641</td>\n",
              "      <td>0.006253</td>\n",
              "    </tr>\n",
              "    <tr>\n",
              "      <th>4</th>\n",
              "      <td>d380meD0W0M</td>\n",
              "      <td>17.14.11</td>\n",
              "      <td>I Dare You: GOING BALD!?</td>\n",
              "      <td>nigahiga</td>\n",
              "      <td>24</td>\n",
              "      <td>2017-11-12T18:01:41.000Z</td>\n",
              "      <td>\"ryan\"|\"higa\"|\"higatv\"|\"nigahiga\"|\"i dare you\"...</td>\n",
              "      <td>2095731.0</td>\n",
              "      <td>132235.0</td>\n",
              "      <td>1989.0</td>\n",
              "      <td>17518.0</td>\n",
              "      <td>https://i.ytimg.com/vi/d380meD0W0M/default.jpg</td>\n",
              "      <td>False</td>\n",
              "      <td>False</td>\n",
              "      <td>False</td>\n",
              "      <td>I know it's been a while since we did this sho...</td>\n",
              "      <td>0.459091</td>\n",
              "      <td>66.483157</td>\n",
              "      <td>0.063097</td>\n",
              "      <td>0.008359</td>\n",
              "    </tr>\n",
              "    <tr>\n",
              "      <th>...</th>\n",
              "      <td>...</td>\n",
              "      <td>...</td>\n",
              "      <td>...</td>\n",
              "      <td>...</td>\n",
              "      <td>...</td>\n",
              "      <td>...</td>\n",
              "      <td>...</td>\n",
              "      <td>...</td>\n",
              "      <td>...</td>\n",
              "      <td>...</td>\n",
              "      <td>...</td>\n",
              "      <td>...</td>\n",
              "      <td>...</td>\n",
              "      <td>...</td>\n",
              "      <td>...</td>\n",
              "      <td>...</td>\n",
              "      <td>...</td>\n",
              "      <td>...</td>\n",
              "      <td>...</td>\n",
              "      <td>...</td>\n",
              "    </tr>\n",
              "    <tr>\n",
              "      <th>48131</th>\n",
              "      <td>1PhPYr_9zRY</td>\n",
              "      <td>18.14.06</td>\n",
              "      <td>BTS Plays With Puppies While Answering Fan Que...</td>\n",
              "      <td>BuzzFeed Celeb</td>\n",
              "      <td>22</td>\n",
              "      <td>2018-05-18T16:39:29.000Z</td>\n",
              "      <td>\"BuzzFeed\"|\"BuzzFeedVideo\"|\"Puppy Interview\"|\"...</td>\n",
              "      <td>8259128.0</td>\n",
              "      <td>645888.0</td>\n",
              "      <td>4052.0</td>\n",
              "      <td>62610.0</td>\n",
              "      <td>https://i.ytimg.com/vi/1PhPYr_9zRY/default.jpg</td>\n",
              "      <td>False</td>\n",
              "      <td>False</td>\n",
              "      <td>False</td>\n",
              "      <td>BTS with the PPS, the puppies. These adorable ...</td>\n",
              "      <td>NaN</td>\n",
              "      <td>159.399803</td>\n",
              "      <td>0.078203</td>\n",
              "      <td>0.007581</td>\n",
              "    </tr>\n",
              "    <tr>\n",
              "      <th>48132</th>\n",
              "      <td>BZt0qjTWNhw</td>\n",
              "      <td>18.14.06</td>\n",
              "      <td>The Cat Who Caught the Laser</td>\n",
              "      <td>AaronsAnimals</td>\n",
              "      <td>15</td>\n",
              "      <td>2018-05-18T13:00:04.000Z</td>\n",
              "      <td>\"aarons animals\"|\"aarons\"|\"animals\"|\"cat\"|\"cat...</td>\n",
              "      <td>1685609.0</td>\n",
              "      <td>38160.0</td>\n",
              "      <td>1385.0</td>\n",
              "      <td>2657.0</td>\n",
              "      <td>https://i.ytimg.com/vi/BZt0qjTWNhw/default.jpg</td>\n",
              "      <td>False</td>\n",
              "      <td>False</td>\n",
              "      <td>False</td>\n",
              "      <td>The Cat Who Caught the Laser - Aaron's Animals</td>\n",
              "      <td>NaN</td>\n",
              "      <td>27.552347</td>\n",
              "      <td>0.022639</td>\n",
              "      <td>0.001576</td>\n",
              "    </tr>\n",
              "    <tr>\n",
              "      <th>48134</th>\n",
              "      <td>D6Oy4LfoqsU</td>\n",
              "      <td>18.14.06</td>\n",
              "      <td>I GAVE SAFIYA NYGAARD A PERFECT HAIR MAKEOVER ...</td>\n",
              "      <td>Brad Mondo</td>\n",
              "      <td>24</td>\n",
              "      <td>2018-05-18T17:34:22.000Z</td>\n",
              "      <td>\"I gave safiya nygaard a perfect hair makeover...</td>\n",
              "      <td>1066451.0</td>\n",
              "      <td>48068.0</td>\n",
              "      <td>1032.0</td>\n",
              "      <td>3992.0</td>\n",
              "      <td>https://i.ytimg.com/vi/D6Oy4LfoqsU/default.jpg</td>\n",
              "      <td>False</td>\n",
              "      <td>False</td>\n",
              "      <td>False</td>\n",
              "      <td>I had so much fun transforming Safiyas hair in...</td>\n",
              "      <td>NaN</td>\n",
              "      <td>46.577519</td>\n",
              "      <td>0.045073</td>\n",
              "      <td>0.003743</td>\n",
              "    </tr>\n",
              "    <tr>\n",
              "      <th>48135</th>\n",
              "      <td>oV0zkMe1K8s</td>\n",
              "      <td>18.14.06</td>\n",
              "      <td>How Black Panther Should Have Ended</td>\n",
              "      <td>How It Should Have Ended</td>\n",
              "      <td>1</td>\n",
              "      <td>2018-05-17T17:00:04.000Z</td>\n",
              "      <td>\"Black Panther\"|\"HISHE\"|\"Marvel\"|\"Infinity War...</td>\n",
              "      <td>5660813.0</td>\n",
              "      <td>192957.0</td>\n",
              "      <td>2846.0</td>\n",
              "      <td>13088.0</td>\n",
              "      <td>https://i.ytimg.com/vi/oV0zkMe1K8s/default.jpg</td>\n",
              "      <td>False</td>\n",
              "      <td>False</td>\n",
              "      <td>False</td>\n",
              "      <td>How Black Panther Should Have EndedWatch More ...</td>\n",
              "      <td>NaN</td>\n",
              "      <td>67.799368</td>\n",
              "      <td>0.034086</td>\n",
              "      <td>0.002312</td>\n",
              "    </tr>\n",
              "    <tr>\n",
              "      <th>48136</th>\n",
              "      <td>ooyjaVdt-jA</td>\n",
              "      <td>18.14.06</td>\n",
              "      <td>Official Call of Duty®: Black Ops 4 — Multipla...</td>\n",
              "      <td>Call of Duty</td>\n",
              "      <td>20</td>\n",
              "      <td>2018-05-17T17:09:38.000Z</td>\n",
              "      <td>\"call of duty\"|\"cod\"|\"activision\"|\"Black Ops 4\"</td>\n",
              "      <td>10306119.0</td>\n",
              "      <td>357079.0</td>\n",
              "      <td>212976.0</td>\n",
              "      <td>144795.0</td>\n",
              "      <td>https://i.ytimg.com/vi/ooyjaVdt-jA/default.jpg</td>\n",
              "      <td>False</td>\n",
              "      <td>False</td>\n",
              "      <td>False</td>\n",
              "      <td>Call of Duty: Black Ops 4 Multiplayer raises t...</td>\n",
              "      <td>NaN</td>\n",
              "      <td>1.676616</td>\n",
              "      <td>0.034647</td>\n",
              "      <td>0.014049</td>\n",
              "    </tr>\n",
              "  </tbody>\n",
              "</table>\n",
              "<p>40379 rows × 20 columns</p>\n",
              "</div>"
            ],
            "text/plain": [
              "          video_id trending_date  ...     liker     commr\n",
              "0      2kyS6SvSYSE      17.14.11  ...  0.076869  0.021318\n",
              "1      1ZAPwfrtAFY      17.14.11  ...  0.040179  0.005252\n",
              "2      5qpjK5DgCt4      17.14.11  ...  0.045758  0.002563\n",
              "3      puqaWrEC7tY      17.14.11  ...  0.029641  0.006253\n",
              "4      d380meD0W0M      17.14.11  ...  0.063097  0.008359\n",
              "...            ...           ...  ...       ...       ...\n",
              "48131  1PhPYr_9zRY      18.14.06  ...  0.078203  0.007581\n",
              "48132  BZt0qjTWNhw      18.14.06  ...  0.022639  0.001576\n",
              "48134  D6Oy4LfoqsU      18.14.06  ...  0.045073  0.003743\n",
              "48135  oV0zkMe1K8s      18.14.06  ...  0.034086  0.002312\n",
              "48136  ooyjaVdt-jA      18.14.06  ...  0.034647  0.014049\n",
              "\n",
              "[40379 rows x 20 columns]"
            ]
          },
          "metadata": {
            "tags": []
          },
          "execution_count": 16
        }
      ]
    },
    {
      "cell_type": "code",
      "metadata": {
        "id": "O_rMji7TjMxV"
      },
      "source": [
        "from scipy import stats"
      ],
      "execution_count": 17,
      "outputs": []
    },
    {
      "cell_type": "code",
      "metadata": {
        "id": "yb3aZO9pRlJp"
      },
      "source": [
        "desccor=UsDataPn.dropna()"
      ],
      "execution_count": 18,
      "outputs": []
    },
    {
      "cell_type": "code",
      "metadata": {
        "colab": {
          "base_uri": "https://localhost:8080/"
        },
        "id": "CpTQuv-BejqN",
        "outputId": "b8ad7467-6548-467a-ff03-017a70283439"
      },
      "source": [
        "stats.spearmanr(desccor['liker'],desccor['descPol'])"
      ],
      "execution_count": 19,
      "outputs": [
        {
          "output_type": "execute_result",
          "data": {
            "text/plain": [
              "SpearmanrResult(correlation=-0.0008704863585135293, pvalue=0.8738922733255614)"
            ]
          },
          "metadata": {
            "tags": []
          },
          "execution_count": 19
        }
      ]
    },
    {
      "cell_type": "code",
      "metadata": {
        "colab": {
          "base_uri": "https://localhost:8080/"
        },
        "id": "jg15kjacaws8",
        "outputId": "8c323243-9ca1-4a45-b754-64a8a1a35c7f"
      },
      "source": [
        "stats.spearmanr(desccor['commr'],desccor['descPol'])"
      ],
      "execution_count": 20,
      "outputs": [
        {
          "output_type": "execute_result",
          "data": {
            "text/plain": [
              "SpearmanrResult(correlation=0.003029164790847611, pvalue=0.5807352027366774)"
            ]
          },
          "metadata": {
            "tags": []
          },
          "execution_count": 20
        }
      ]
    },
    {
      "cell_type": "code",
      "metadata": {
        "colab": {
          "base_uri": "https://localhost:8080/"
        },
        "id": "8lJIwJ3Habj9",
        "outputId": "c7d39807-526a-4996-e4bd-c3a799ca0c91"
      },
      "source": [
        "stats.spearmanr(desccor['ldr'],desccor['descPol'])"
      ],
      "execution_count": 21,
      "outputs": [
        {
          "output_type": "execute_result",
          "data": {
            "text/plain": [
              "SpearmanrResult(correlation=-0.0026241959428206047, pvalue=0.6323139990288499)"
            ]
          },
          "metadata": {
            "tags": []
          },
          "execution_count": 21
        }
      ]
    },
    {
      "cell_type": "code",
      "metadata": {
        "colab": {
          "base_uri": "https://localhost:8080/"
        },
        "id": "-z0KP4Ima5bk",
        "outputId": "7e787cc6-a7b4-4d7e-8170-65bd3d327aa7"
      },
      "source": [
        "stats.spearmanr(desccor['views'],desccor['descPol'])"
      ],
      "execution_count": 22,
      "outputs": [
        {
          "output_type": "execute_result",
          "data": {
            "text/plain": [
              "SpearmanrResult(correlation=0.0034972106582940856, pvalue=0.5237009091763586)"
            ]
          },
          "metadata": {
            "tags": []
          },
          "execution_count": 22
        }
      ]
    },
    {
      "cell_type": "markdown",
      "metadata": {
        "id": "Qxbfeo3Y8dV6"
      },
      "source": [
        "\n",
        "**Maybe compare with title, tags and desc for video to be trending**"
      ]
    },
    {
      "cell_type": "code",
      "metadata": {
        "colab": {
          "base_uri": "https://localhost:8080/"
        },
        "id": "ZLZl6VCCgYF0",
        "outputId": "ffa483ec-5164-4260-926a-8b526a210058"
      },
      "source": [
        "# Analysis on Tags\n",
        "USTags = USData.select('video_id','tags')\n",
        "USTags.show()"
      ],
      "execution_count": 23,
      "outputs": [
        {
          "output_type": "stream",
          "text": [
            "+-----------+--------------------+\n",
            "|   video_id|                tags|\n",
            "+-----------+--------------------+\n",
            "|2kyS6SvSYSE|     SHANtell martin|\n",
            "|1ZAPwfrtAFY|\"last week tonigh...|\n",
            "|5qpjK5DgCt4|\"racist superman\"...|\n",
            "|puqaWrEC7tY|\"rhett and link\"|...|\n",
            "|d380meD0W0M|\"ryan\"|\"higa\"|\"hi...|\n",
            "|gHZ1Qz0KiKM|\"ijustine\"|\"week ...|\n",
            "|39idVpFF7NQ|\"SNL\"|\"Saturday N...|\n",
            "|nc99ccSXST0|\"5 Ice Cream Gadg...|\n",
            "|jr9QtXwC9vc|\"Trailer\"|\"Hugh J...|\n",
            "|TUmyygCMMGA|\"vox.com\"|\"vox\"|\"...|\n",
            "|9wRQljFNDW8|\"NFL\"|\"Football\"|...|\n",
            "|VifQlJit6A0|\"The Walking Dead...|\n",
            "|5E4ZBSInqUU|\"marshmello\"|\"blo...|\n",
            "|GgVmn66oK_A|\"nowthis\"|\"nowthi...|\n",
            "|TaTleo4cOs8|\"shopping for new...|\n",
            "|kgaO45SyaO4|\"Robots\"|\"Boston ...|\n",
            "|ZAQs-ctOqXQ|\"pacific rim\"|\"pa...|\n",
            "|YVfyYrEmzgM|\"TED\"|\"TED-Ed\"|\"T...|\n",
            "|eNSN6qet1kE|\"ultralight\"|\"air...|\n",
            "|B5HORANmzHw|\"SciShow\"|\"scienc...|\n",
            "+-----------+--------------------+\n",
            "only showing top 20 rows\n",
            "\n"
          ],
          "name": "stdout"
        }
      ]
    },
    {
      "cell_type": "code",
      "metadata": {
        "colab": {
          "base_uri": "https://localhost:8080/"
        },
        "id": "T26UwMMMg2hz",
        "outputId": "de18405a-98bc-49be-e7b5-8a91c3201e71"
      },
      "source": [
        "# Filtering tags\n",
        "USTags = USTags[USTags['tags']!=\"None\"]\n",
        "USTags.show()"
      ],
      "execution_count": 24,
      "outputs": [
        {
          "output_type": "stream",
          "text": [
            "+-----------+--------------------+\n",
            "|   video_id|                tags|\n",
            "+-----------+--------------------+\n",
            "|2kyS6SvSYSE|     SHANtell martin|\n",
            "|1ZAPwfrtAFY|\"last week tonigh...|\n",
            "|5qpjK5DgCt4|\"racist superman\"...|\n",
            "|puqaWrEC7tY|\"rhett and link\"|...|\n",
            "|d380meD0W0M|\"ryan\"|\"higa\"|\"hi...|\n",
            "|gHZ1Qz0KiKM|\"ijustine\"|\"week ...|\n",
            "|39idVpFF7NQ|\"SNL\"|\"Saturday N...|\n",
            "|nc99ccSXST0|\"5 Ice Cream Gadg...|\n",
            "|jr9QtXwC9vc|\"Trailer\"|\"Hugh J...|\n",
            "|TUmyygCMMGA|\"vox.com\"|\"vox\"|\"...|\n",
            "|9wRQljFNDW8|\"NFL\"|\"Football\"|...|\n",
            "|VifQlJit6A0|\"The Walking Dead...|\n",
            "|5E4ZBSInqUU|\"marshmello\"|\"blo...|\n",
            "|GgVmn66oK_A|\"nowthis\"|\"nowthi...|\n",
            "|TaTleo4cOs8|\"shopping for new...|\n",
            "|kgaO45SyaO4|\"Robots\"|\"Boston ...|\n",
            "|ZAQs-ctOqXQ|\"pacific rim\"|\"pa...|\n",
            "|YVfyYrEmzgM|\"TED\"|\"TED-Ed\"|\"T...|\n",
            "|eNSN6qet1kE|\"ultralight\"|\"air...|\n",
            "|B5HORANmzHw|\"SciShow\"|\"scienc...|\n",
            "+-----------+--------------------+\n",
            "only showing top 20 rows\n",
            "\n"
          ],
          "name": "stdout"
        }
      ]
    },
    {
      "cell_type": "code",
      "metadata": {
        "colab": {
          "base_uri": "https://localhost:8080/"
        },
        "id": "k3fwIl7ThRyw",
        "outputId": "8fbe6276-70d6-44e6-e224-dd466c146811"
      },
      "source": [
        "USTagsPandas = USTags.toPandas()\n",
        "USTagsPandas.shape"
      ],
      "execution_count": 25,
      "outputs": [
        {
          "output_type": "execute_result",
          "data": {
            "text/plain": [
              "(41116, 2)"
            ]
          },
          "metadata": {
            "tags": []
          },
          "execution_count": 25
        }
      ]
    },
    {
      "cell_type": "code",
      "metadata": {
        "id": "CpAq31JUhcoS"
      },
      "source": [
        "# Calculating the Sentiment Polarity of Tags\n",
        "\n",
        "polTags=[] # list which will contain the polarity of the tags\n",
        "for i in USTagsPandas.tags.values:\n",
        "    try:\n",
        "        analysis =TextBlob(i)\n",
        "        polTags.append(analysis.sentiment.polarity)\n",
        "        \n",
        "    except:\n",
        "        polTags.append(0)"
      ],
      "execution_count": 26,
      "outputs": []
    },
    {
      "cell_type": "code",
      "metadata": {
        "id": "42o7t6CVhy3U"
      },
      "source": [
        "USTagsPandas['pol']= polTags"
      ],
      "execution_count": 27,
      "outputs": []
    },
    {
      "cell_type": "code",
      "metadata": {
        "colab": {
          "base_uri": "https://localhost:8080/",
          "height": 359
        },
        "id": "XF_FA4mrh6fA",
        "outputId": "a7bf2ebc-5a14-4135-8e64-1ac8340d3205"
      },
      "source": [
        "USTagsPandas.head(10)"
      ],
      "execution_count": 28,
      "outputs": [
        {
          "output_type": "execute_result",
          "data": {
            "text/html": [
              "<div>\n",
              "<style scoped>\n",
              "    .dataframe tbody tr th:only-of-type {\n",
              "        vertical-align: middle;\n",
              "    }\n",
              "\n",
              "    .dataframe tbody tr th {\n",
              "        vertical-align: top;\n",
              "    }\n",
              "\n",
              "    .dataframe thead th {\n",
              "        text-align: right;\n",
              "    }\n",
              "</style>\n",
              "<table border=\"1\" class=\"dataframe\">\n",
              "  <thead>\n",
              "    <tr style=\"text-align: right;\">\n",
              "      <th></th>\n",
              "      <th>video_id</th>\n",
              "      <th>tags</th>\n",
              "      <th>pol</th>\n",
              "    </tr>\n",
              "  </thead>\n",
              "  <tbody>\n",
              "    <tr>\n",
              "      <th>0</th>\n",
              "      <td>2kyS6SvSYSE</td>\n",
              "      <td>SHANtell martin</td>\n",
              "      <td>0.000000</td>\n",
              "    </tr>\n",
              "    <tr>\n",
              "      <th>1</th>\n",
              "      <td>1ZAPwfrtAFY</td>\n",
              "      <td>\"last week tonight trump presidency\"|\"last wee...</td>\n",
              "      <td>0.000000</td>\n",
              "    </tr>\n",
              "    <tr>\n",
              "      <th>2</th>\n",
              "      <td>5qpjK5DgCt4</td>\n",
              "      <td>\"racist superman\"|\"rudy\"|\"mancuso\"|\"king\"|\"bac...</td>\n",
              "      <td>0.111111</td>\n",
              "    </tr>\n",
              "    <tr>\n",
              "      <th>3</th>\n",
              "      <td>puqaWrEC7tY</td>\n",
              "      <td>\"rhett and link\"|\"gmm\"|\"good mythical morning\"...</td>\n",
              "      <td>0.266667</td>\n",
              "    </tr>\n",
              "    <tr>\n",
              "      <th>4</th>\n",
              "      <td>d380meD0W0M</td>\n",
              "      <td>\"ryan\"|\"higa\"|\"higatv\"|\"nigahiga\"|\"i dare you\"...</td>\n",
              "      <td>-0.350000</td>\n",
              "    </tr>\n",
              "    <tr>\n",
              "      <th>5</th>\n",
              "      <td>gHZ1Qz0KiKM</td>\n",
              "      <td>\"ijustine\"|\"week with iPhone X\"|\"iphone x\"|\"ap...</td>\n",
              "      <td>0.000000</td>\n",
              "    </tr>\n",
              "    <tr>\n",
              "      <th>6</th>\n",
              "      <td>39idVpFF7NQ</td>\n",
              "      <td>\"SNL\"|\"Saturday Night Live\"|\"SNL Season 43\"|\"E...</td>\n",
              "      <td>0.112238</td>\n",
              "    </tr>\n",
              "    <tr>\n",
              "      <th>7</th>\n",
              "      <td>nc99ccSXST0</td>\n",
              "      <td>\"5 Ice Cream Gadgets\"|\"Ice Cream\"|\"Cream Sandw...</td>\n",
              "      <td>0.000000</td>\n",
              "    </tr>\n",
              "    <tr>\n",
              "      <th>8</th>\n",
              "      <td>jr9QtXwC9vc</td>\n",
              "      <td>\"Trailer\"|\"Hugh Jackman\"|\"Michelle Williams\"|\"...</td>\n",
              "      <td>0.416000</td>\n",
              "    </tr>\n",
              "    <tr>\n",
              "      <th>9</th>\n",
              "      <td>TUmyygCMMGA</td>\n",
              "      <td>\"vox.com\"|\"vox\"|\"explain\"|\"shift change\"|\"futu...</td>\n",
              "      <td>0.000000</td>\n",
              "    </tr>\n",
              "  </tbody>\n",
              "</table>\n",
              "</div>"
            ],
            "text/plain": [
              "      video_id                                               tags       pol\n",
              "0  2kyS6SvSYSE                                    SHANtell martin  0.000000\n",
              "1  1ZAPwfrtAFY  \"last week tonight trump presidency\"|\"last wee...  0.000000\n",
              "2  5qpjK5DgCt4  \"racist superman\"|\"rudy\"|\"mancuso\"|\"king\"|\"bac...  0.111111\n",
              "3  puqaWrEC7tY  \"rhett and link\"|\"gmm\"|\"good mythical morning\"...  0.266667\n",
              "4  d380meD0W0M  \"ryan\"|\"higa\"|\"higatv\"|\"nigahiga\"|\"i dare you\"... -0.350000\n",
              "5  gHZ1Qz0KiKM  \"ijustine\"|\"week with iPhone X\"|\"iphone x\"|\"ap...  0.000000\n",
              "6  39idVpFF7NQ  \"SNL\"|\"Saturday Night Live\"|\"SNL Season 43\"|\"E...  0.112238\n",
              "7  nc99ccSXST0  \"5 Ice Cream Gadgets\"|\"Ice Cream\"|\"Cream Sandw...  0.000000\n",
              "8  jr9QtXwC9vc  \"Trailer\"|\"Hugh Jackman\"|\"Michelle Williams\"|\"...  0.416000\n",
              "9  TUmyygCMMGA  \"vox.com\"|\"vox\"|\"explain\"|\"shift change\"|\"futu...  0.000000"
            ]
          },
          "metadata": {
            "tags": []
          },
          "execution_count": 28
        }
      ]
    },
    {
      "cell_type": "code",
      "metadata": {
        "id": "KHNVEVBFv_kO",
        "colab": {
          "base_uri": "https://localhost:8080/"
        },
        "outputId": "324cc22a-e5b3-4600-b885-fc758e0d4866"
      },
      "source": [
        "UsDataPn['tagPol']=USTagsPandas['pol']\n",
        "UsDataPn['tagPol']"
      ],
      "execution_count": 29,
      "outputs": [
        {
          "output_type": "execute_result",
          "data": {
            "text/plain": [
              "0        0.000000\n",
              "1        0.000000\n",
              "2        0.111111\n",
              "3        0.266667\n",
              "4       -0.350000\n",
              "           ...   \n",
              "48131         NaN\n",
              "48132         NaN\n",
              "48134         NaN\n",
              "48135         NaN\n",
              "48136         NaN\n",
              "Name: tagPol, Length: 40379, dtype: float64"
            ]
          },
          "metadata": {
            "tags": []
          },
          "execution_count": 29
        }
      ]
    },
    {
      "cell_type": "code",
      "metadata": {
        "id": "dUj1Uu9wSfvD",
        "colab": {
          "base_uri": "https://localhost:8080/",
          "height": 513
        },
        "outputId": "1a1ad1a2-7865-4177-d004-8ee8591341ff"
      },
      "source": [
        "UsDataPn.head()"
      ],
      "execution_count": 30,
      "outputs": [
        {
          "output_type": "execute_result",
          "data": {
            "text/html": [
              "<div>\n",
              "<style scoped>\n",
              "    .dataframe tbody tr th:only-of-type {\n",
              "        vertical-align: middle;\n",
              "    }\n",
              "\n",
              "    .dataframe tbody tr th {\n",
              "        vertical-align: top;\n",
              "    }\n",
              "\n",
              "    .dataframe thead th {\n",
              "        text-align: right;\n",
              "    }\n",
              "</style>\n",
              "<table border=\"1\" class=\"dataframe\">\n",
              "  <thead>\n",
              "    <tr style=\"text-align: right;\">\n",
              "      <th></th>\n",
              "      <th>video_id</th>\n",
              "      <th>trending_date</th>\n",
              "      <th>title</th>\n",
              "      <th>channel_title</th>\n",
              "      <th>category_id</th>\n",
              "      <th>publish_time</th>\n",
              "      <th>tags</th>\n",
              "      <th>views</th>\n",
              "      <th>likes</th>\n",
              "      <th>dislikes</th>\n",
              "      <th>comment_count</th>\n",
              "      <th>thumbnail_link</th>\n",
              "      <th>comments_disabled</th>\n",
              "      <th>ratings_disabled</th>\n",
              "      <th>video_error_or_removed</th>\n",
              "      <th>description</th>\n",
              "      <th>descPol</th>\n",
              "      <th>ldr</th>\n",
              "      <th>liker</th>\n",
              "      <th>commr</th>\n",
              "      <th>tagPol</th>\n",
              "    </tr>\n",
              "  </thead>\n",
              "  <tbody>\n",
              "    <tr>\n",
              "      <th>0</th>\n",
              "      <td>2kyS6SvSYSE</td>\n",
              "      <td>17.14.11</td>\n",
              "      <td>WE WANT TO TALK ABOUT OUR MARRIAGE</td>\n",
              "      <td>CaseyNeistat</td>\n",
              "      <td>22</td>\n",
              "      <td>2017-11-13T17:13:01.000Z</td>\n",
              "      <td>SHANtell martin</td>\n",
              "      <td>748374.0</td>\n",
              "      <td>57527.0</td>\n",
              "      <td>2966.0</td>\n",
              "      <td>15954.0</td>\n",
              "      <td>https://i.ytimg.com/vi/2kyS6SvSYSE/default.jpg</td>\n",
              "      <td>False</td>\n",
              "      <td>False</td>\n",
              "      <td>False</td>\n",
              "      <td>SHANTELL'S CHANNEL - https://www.youtube.com/s...</td>\n",
              "      <td>-0.166667</td>\n",
              "      <td>19.395482</td>\n",
              "      <td>0.076869</td>\n",
              "      <td>0.021318</td>\n",
              "      <td>0.000000</td>\n",
              "    </tr>\n",
              "    <tr>\n",
              "      <th>1</th>\n",
              "      <td>1ZAPwfrtAFY</td>\n",
              "      <td>17.14.11</td>\n",
              "      <td>The Trump Presidency: Last Week Tonight with J...</td>\n",
              "      <td>LastWeekTonight</td>\n",
              "      <td>24</td>\n",
              "      <td>2017-11-13T07:30:00.000Z</td>\n",
              "      <td>\"last week tonight trump presidency\"|\"last wee...</td>\n",
              "      <td>2418783.0</td>\n",
              "      <td>97185.0</td>\n",
              "      <td>6146.0</td>\n",
              "      <td>12703.0</td>\n",
              "      <td>https://i.ytimg.com/vi/1ZAPwfrtAFY/default.jpg</td>\n",
              "      <td>False</td>\n",
              "      <td>False</td>\n",
              "      <td>False</td>\n",
              "      <td>One year after the presidential election, John...</td>\n",
              "      <td>0.079167</td>\n",
              "      <td>15.812724</td>\n",
              "      <td>0.040179</td>\n",
              "      <td>0.005252</td>\n",
              "      <td>0.000000</td>\n",
              "    </tr>\n",
              "    <tr>\n",
              "      <th>2</th>\n",
              "      <td>5qpjK5DgCt4</td>\n",
              "      <td>17.14.11</td>\n",
              "      <td>Racist Superman | Rudy Mancuso, King Bach &amp; Le...</td>\n",
              "      <td>Rudy Mancuso</td>\n",
              "      <td>23</td>\n",
              "      <td>2017-11-12T19:05:24.000Z</td>\n",
              "      <td>\"racist superman\"|\"rudy\"|\"mancuso\"|\"king\"|\"bac...</td>\n",
              "      <td>3191434.0</td>\n",
              "      <td>146033.0</td>\n",
              "      <td>5339.0</td>\n",
              "      <td>8181.0</td>\n",
              "      <td>https://i.ytimg.com/vi/5qpjK5DgCt4/default.jpg</td>\n",
              "      <td>False</td>\n",
              "      <td>False</td>\n",
              "      <td>False</td>\n",
              "      <td>WATCH MY PREVIOUS VIDEO ▶ \\n\\nSUBSCRIBE ► http...</td>\n",
              "      <td>0.145833</td>\n",
              "      <td>27.352126</td>\n",
              "      <td>0.045758</td>\n",
              "      <td>0.002563</td>\n",
              "      <td>0.111111</td>\n",
              "    </tr>\n",
              "    <tr>\n",
              "      <th>3</th>\n",
              "      <td>puqaWrEC7tY</td>\n",
              "      <td>17.14.11</td>\n",
              "      <td>Nickelback Lyrics: Real or Fake?</td>\n",
              "      <td>Good Mythical Morning</td>\n",
              "      <td>24</td>\n",
              "      <td>2017-11-13T11:00:04.000Z</td>\n",
              "      <td>\"rhett and link\"|\"gmm\"|\"good mythical morning\"...</td>\n",
              "      <td>343168.0</td>\n",
              "      <td>10172.0</td>\n",
              "      <td>666.0</td>\n",
              "      <td>2146.0</td>\n",
              "      <td>https://i.ytimg.com/vi/puqaWrEC7tY/default.jpg</td>\n",
              "      <td>False</td>\n",
              "      <td>False</td>\n",
              "      <td>False</td>\n",
              "      <td>Today we find out if Link is a Nickelback amat...</td>\n",
              "      <td>-0.017330</td>\n",
              "      <td>15.273273</td>\n",
              "      <td>0.029641</td>\n",
              "      <td>0.006253</td>\n",
              "      <td>0.266667</td>\n",
              "    </tr>\n",
              "    <tr>\n",
              "      <th>4</th>\n",
              "      <td>d380meD0W0M</td>\n",
              "      <td>17.14.11</td>\n",
              "      <td>I Dare You: GOING BALD!?</td>\n",
              "      <td>nigahiga</td>\n",
              "      <td>24</td>\n",
              "      <td>2017-11-12T18:01:41.000Z</td>\n",
              "      <td>\"ryan\"|\"higa\"|\"higatv\"|\"nigahiga\"|\"i dare you\"...</td>\n",
              "      <td>2095731.0</td>\n",
              "      <td>132235.0</td>\n",
              "      <td>1989.0</td>\n",
              "      <td>17518.0</td>\n",
              "      <td>https://i.ytimg.com/vi/d380meD0W0M/default.jpg</td>\n",
              "      <td>False</td>\n",
              "      <td>False</td>\n",
              "      <td>False</td>\n",
              "      <td>I know it's been a while since we did this sho...</td>\n",
              "      <td>0.459091</td>\n",
              "      <td>66.483157</td>\n",
              "      <td>0.063097</td>\n",
              "      <td>0.008359</td>\n",
              "      <td>-0.350000</td>\n",
              "    </tr>\n",
              "  </tbody>\n",
              "</table>\n",
              "</div>"
            ],
            "text/plain": [
              "      video_id trending_date  ...     commr    tagPol\n",
              "0  2kyS6SvSYSE      17.14.11  ...  0.021318  0.000000\n",
              "1  1ZAPwfrtAFY      17.14.11  ...  0.005252  0.000000\n",
              "2  5qpjK5DgCt4      17.14.11  ...  0.002563  0.111111\n",
              "3  puqaWrEC7tY      17.14.11  ...  0.006253  0.266667\n",
              "4  d380meD0W0M      17.14.11  ...  0.008359 -0.350000\n",
              "\n",
              "[5 rows x 21 columns]"
            ]
          },
          "metadata": {
            "tags": []
          },
          "execution_count": 30
        }
      ]
    },
    {
      "cell_type": "code",
      "metadata": {
        "id": "4FpSePnDwtNd"
      },
      "source": [
        "tagcor=UsDataPn.dropna()"
      ],
      "execution_count": 31,
      "outputs": []
    },
    {
      "cell_type": "code",
      "metadata": {
        "colab": {
          "base_uri": "https://localhost:8080/"
        },
        "id": "EmdqjBXUwIyg",
        "outputId": "593c15b6-2214-4d82-95e9-82f4755809c9"
      },
      "source": [
        "# Finding correlation with Tags\n",
        "\n",
        "stats.spearmanr(tagcor['views'],tagcor['tagPol'])"
      ],
      "execution_count": 32,
      "outputs": [
        {
          "output_type": "execute_result",
          "data": {
            "text/plain": [
              "SpearmanrResult(correlation=-0.010095920450278404, pvalue=0.06564448273235063)"
            ]
          },
          "metadata": {
            "tags": []
          },
          "execution_count": 32
        }
      ]
    },
    {
      "cell_type": "code",
      "metadata": {
        "colab": {
          "base_uri": "https://localhost:8080/"
        },
        "id": "mADYOu_YxR1I",
        "outputId": "58b3e937-006d-44c1-bdd7-b6f3efaf981d"
      },
      "source": [
        "stats.spearmanr(tagcor['ldr'],tagcor['tagPol'])"
      ],
      "execution_count": 33,
      "outputs": [
        {
          "output_type": "execute_result",
          "data": {
            "text/plain": [
              "SpearmanrResult(correlation=-0.006165721342466628, pvalue=0.2609234218399504)"
            ]
          },
          "metadata": {
            "tags": []
          },
          "execution_count": 33
        }
      ]
    },
    {
      "cell_type": "code",
      "metadata": {
        "colab": {
          "base_uri": "https://localhost:8080/"
        },
        "id": "YMIrX7PRxWUZ",
        "outputId": "c720ff9e-2913-4f18-eefe-f1dc7fed9cfc"
      },
      "source": [
        "stats.spearmanr(tagcor['commr'],tagcor['tagPol'])"
      ],
      "execution_count": 34,
      "outputs": [
        {
          "output_type": "execute_result",
          "data": {
            "text/plain": [
              "SpearmanrResult(correlation=0.005666754394232338, pvalue=0.30149541746548064)"
            ]
          },
          "metadata": {
            "tags": []
          },
          "execution_count": 34
        }
      ]
    },
    {
      "cell_type": "code",
      "metadata": {
        "colab": {
          "base_uri": "https://localhost:8080/"
        },
        "id": "Pwl-97wtxbz4",
        "outputId": "8e227852-6a9b-4159-df7b-976e479e5196"
      },
      "source": [
        "stats.spearmanr(tagcor['liker'],tagcor['tagPol'])"
      ],
      "execution_count": 35,
      "outputs": [
        {
          "output_type": "execute_result",
          "data": {
            "text/plain": [
              "SpearmanrResult(correlation=-0.00013236970008234606, pvalue=0.9807448728944386)"
            ]
          },
          "metadata": {
            "tags": []
          },
          "execution_count": 35
        }
      ]
    },
    {
      "cell_type": "code",
      "metadata": {
        "colab": {
          "base_uri": "https://localhost:8080/"
        },
        "id": "8jGdOhF0vg1x",
        "outputId": "62b0c1da-1380-48df-aa03-b1945f7a29ae"
      },
      "source": [
        "# Sentiment analysis on Title\n",
        "USTitle = USData.select('video_id','title')\n",
        "USTitle.show()\n"
      ],
      "execution_count": 36,
      "outputs": [
        {
          "output_type": "stream",
          "text": [
            "+-----------+--------------------+\n",
            "|   video_id|               title|\n",
            "+-----------+--------------------+\n",
            "|2kyS6SvSYSE|WE WANT TO TALK A...|\n",
            "|1ZAPwfrtAFY|The Trump Preside...|\n",
            "|5qpjK5DgCt4|Racist Superman |...|\n",
            "|puqaWrEC7tY|Nickelback Lyrics...|\n",
            "|d380meD0W0M|I Dare You: GOING...|\n",
            "|gHZ1Qz0KiKM|2 Weeks with iPho...|\n",
            "|39idVpFF7NQ|Roy Moore & Jeff ...|\n",
            "|nc99ccSXST0|5 Ice Cream Gadge...|\n",
            "|jr9QtXwC9vc|The Greatest Show...|\n",
            "|TUmyygCMMGA|Why the rise of t...|\n",
            "|9wRQljFNDW8|Dion Lewis' 103-Y...|\n",
            "|VifQlJit6A0|(SPOILERS) 'Shiva...|\n",
            "|5E4ZBSInqUU|Marshmello - Bloc...|\n",
            "|GgVmn66oK_A|Which Countries A...|\n",
            "|TaTleo4cOs8|SHOPPING FOR NEW ...|\n",
            "|kgaO45SyaO4|    The New SpotMini|\n",
            "|ZAQs-ctOqXQ|One Change That W...|\n",
            "|YVfyYrEmzgM|How does your bod...|\n",
            "|eNSN6qet1kE|HomeMade Electric...|\n",
            "|B5HORANmzHw|Founding An Inbre...|\n",
            "+-----------+--------------------+\n",
            "only showing top 20 rows\n",
            "\n"
          ],
          "name": "stdout"
        }
      ]
    },
    {
      "cell_type": "code",
      "metadata": {
        "colab": {
          "base_uri": "https://localhost:8080/"
        },
        "id": "NO35OiIvv7u_",
        "outputId": "06a7219a-bbb5-4d82-9944-35e2e5369293"
      },
      "source": [
        "# Filtering tags\n",
        "USTitle = USTitle[USTitle['title']!=\"None\"]\n",
        "USTitle.show()"
      ],
      "execution_count": 37,
      "outputs": [
        {
          "output_type": "stream",
          "text": [
            "+-----------+--------------------+\n",
            "|   video_id|               title|\n",
            "+-----------+--------------------+\n",
            "|2kyS6SvSYSE|WE WANT TO TALK A...|\n",
            "|1ZAPwfrtAFY|The Trump Preside...|\n",
            "|5qpjK5DgCt4|Racist Superman |...|\n",
            "|puqaWrEC7tY|Nickelback Lyrics...|\n",
            "|d380meD0W0M|I Dare You: GOING...|\n",
            "|gHZ1Qz0KiKM|2 Weeks with iPho...|\n",
            "|39idVpFF7NQ|Roy Moore & Jeff ...|\n",
            "|nc99ccSXST0|5 Ice Cream Gadge...|\n",
            "|jr9QtXwC9vc|The Greatest Show...|\n",
            "|TUmyygCMMGA|Why the rise of t...|\n",
            "|9wRQljFNDW8|Dion Lewis' 103-Y...|\n",
            "|VifQlJit6A0|(SPOILERS) 'Shiva...|\n",
            "|5E4ZBSInqUU|Marshmello - Bloc...|\n",
            "|GgVmn66oK_A|Which Countries A...|\n",
            "|TaTleo4cOs8|SHOPPING FOR NEW ...|\n",
            "|kgaO45SyaO4|    The New SpotMini|\n",
            "|ZAQs-ctOqXQ|One Change That W...|\n",
            "|YVfyYrEmzgM|How does your bod...|\n",
            "|eNSN6qet1kE|HomeMade Electric...|\n",
            "|B5HORANmzHw|Founding An Inbre...|\n",
            "+-----------+--------------------+\n",
            "only showing top 20 rows\n",
            "\n"
          ],
          "name": "stdout"
        }
      ]
    },
    {
      "cell_type": "code",
      "metadata": {
        "colab": {
          "base_uri": "https://localhost:8080/"
        },
        "id": "bW7z5CfWwJf4",
        "outputId": "90c12dd5-7ad4-4c2c-e0f9-185ac2cea4a4"
      },
      "source": [
        "USTitlePandas = USTitle.toPandas()\n",
        "USTitlePandas.shape"
      ],
      "execution_count": 38,
      "outputs": [
        {
          "output_type": "execute_result",
          "data": {
            "text/plain": [
              "(42235, 2)"
            ]
          },
          "metadata": {
            "tags": []
          },
          "execution_count": 38
        }
      ]
    },
    {
      "cell_type": "code",
      "metadata": {
        "id": "jA7iwb2iwUcX"
      },
      "source": [
        "# Calculating the Sentiment Polarity of Title\n",
        "\n",
        "polTitle=[] # list which will contain the polarity of the comments\n",
        "for i in USTitlePandas.title.values:\n",
        "    try:\n",
        "        analysis =TextBlob(i)\n",
        "        polTitle.append(analysis.sentiment.polarity)\n",
        "        \n",
        "    except:\n",
        "        polTitle.append(0)"
      ],
      "execution_count": 39,
      "outputs": []
    },
    {
      "cell_type": "code",
      "metadata": {
        "id": "H088K7xOxLwv"
      },
      "source": [
        "USTitlePandas['pol']= polTitle"
      ],
      "execution_count": 40,
      "outputs": []
    },
    {
      "cell_type": "code",
      "metadata": {
        "colab": {
          "base_uri": "https://localhost:8080/",
          "height": 204
        },
        "id": "xJXKEEjNxU1D",
        "outputId": "dcf25a1c-be28-4510-b6bd-73195880da76"
      },
      "source": [
        "USTitlePandas.head()"
      ],
      "execution_count": 41,
      "outputs": [
        {
          "output_type": "execute_result",
          "data": {
            "text/html": [
              "<div>\n",
              "<style scoped>\n",
              "    .dataframe tbody tr th:only-of-type {\n",
              "        vertical-align: middle;\n",
              "    }\n",
              "\n",
              "    .dataframe tbody tr th {\n",
              "        vertical-align: top;\n",
              "    }\n",
              "\n",
              "    .dataframe thead th {\n",
              "        text-align: right;\n",
              "    }\n",
              "</style>\n",
              "<table border=\"1\" class=\"dataframe\">\n",
              "  <thead>\n",
              "    <tr style=\"text-align: right;\">\n",
              "      <th></th>\n",
              "      <th>video_id</th>\n",
              "      <th>title</th>\n",
              "      <th>pol</th>\n",
              "    </tr>\n",
              "  </thead>\n",
              "  <tbody>\n",
              "    <tr>\n",
              "      <th>0</th>\n",
              "      <td>2kyS6SvSYSE</td>\n",
              "      <td>WE WANT TO TALK ABOUT OUR MARRIAGE</td>\n",
              "      <td>0.00</td>\n",
              "    </tr>\n",
              "    <tr>\n",
              "      <th>1</th>\n",
              "      <td>1ZAPwfrtAFY</td>\n",
              "      <td>The Trump Presidency: Last Week Tonight with J...</td>\n",
              "      <td>0.00</td>\n",
              "    </tr>\n",
              "    <tr>\n",
              "      <th>2</th>\n",
              "      <td>5qpjK5DgCt4</td>\n",
              "      <td>Racist Superman | Rudy Mancuso, King Bach &amp; Le...</td>\n",
              "      <td>0.00</td>\n",
              "    </tr>\n",
              "    <tr>\n",
              "      <th>3</th>\n",
              "      <td>puqaWrEC7tY</td>\n",
              "      <td>Nickelback Lyrics: Real or Fake?</td>\n",
              "      <td>-0.75</td>\n",
              "    </tr>\n",
              "    <tr>\n",
              "      <th>4</th>\n",
              "      <td>d380meD0W0M</td>\n",
              "      <td>I Dare You: GOING BALD!?</td>\n",
              "      <td>0.00</td>\n",
              "    </tr>\n",
              "  </tbody>\n",
              "</table>\n",
              "</div>"
            ],
            "text/plain": [
              "      video_id                                              title   pol\n",
              "0  2kyS6SvSYSE                 WE WANT TO TALK ABOUT OUR MARRIAGE  0.00\n",
              "1  1ZAPwfrtAFY  The Trump Presidency: Last Week Tonight with J...  0.00\n",
              "2  5qpjK5DgCt4  Racist Superman | Rudy Mancuso, King Bach & Le...  0.00\n",
              "3  puqaWrEC7tY                   Nickelback Lyrics: Real or Fake? -0.75\n",
              "4  d380meD0W0M                           I Dare You: GOING BALD!?  0.00"
            ]
          },
          "metadata": {
            "tags": []
          },
          "execution_count": 41
        }
      ]
    },
    {
      "cell_type": "code",
      "metadata": {
        "id": "8Zr1I45qxZv2"
      },
      "source": [
        "# USTitlePandas, USTagsPandas, USDescPandas"
      ],
      "execution_count": 42,
      "outputs": []
    },
    {
      "cell_type": "code",
      "metadata": {
        "id": "SKKntUxCz7WR"
      },
      "source": [
        "# Adding title Polarity values\n",
        "\n",
        "UsDataPn['titlePol']=USTitlePandas['pol']\n",
        "titlecorr=UsDataPn.dropna()"
      ],
      "execution_count": 43,
      "outputs": []
    },
    {
      "cell_type": "code",
      "metadata": {
        "colab": {
          "base_uri": "https://localhost:8080/"
        },
        "id": "RJp7JFub0NKo",
        "outputId": "a58e9126-4a75-411e-9777-9dfd8c92a13f"
      },
      "source": [
        "stats.spearmanr(titlecorr['views'],titlecorr['titlePol'])"
      ],
      "execution_count": 44,
      "outputs": [
        {
          "output_type": "execute_result",
          "data": {
            "text/plain": [
              "SpearmanrResult(correlation=0.007287177221959225, pvalue=0.1839489187794785)"
            ]
          },
          "metadata": {
            "tags": []
          },
          "execution_count": 44
        }
      ]
    },
    {
      "cell_type": "code",
      "metadata": {
        "colab": {
          "base_uri": "https://localhost:8080/"
        },
        "id": "Wlp4X1ad0Zu4",
        "outputId": "acd670da-bfcd-40e4-e933-7bb1806e7414"
      },
      "source": [
        "stats.spearmanr(titlecorr['ldr'],titlecorr['titlePol'])"
      ],
      "execution_count": 45,
      "outputs": [
        {
          "output_type": "execute_result",
          "data": {
            "text/plain": [
              "SpearmanrResult(correlation=0.007180668279672705, pvalue=0.19044173522127825)"
            ]
          },
          "metadata": {
            "tags": []
          },
          "execution_count": 45
        }
      ]
    },
    {
      "cell_type": "code",
      "metadata": {
        "colab": {
          "base_uri": "https://localhost:8080/"
        },
        "id": "f4TE2iM80fYg",
        "outputId": "b94cafa1-8ff8-4829-d11a-07741ddf2d51"
      },
      "source": [
        "stats.spearmanr(titlecorr['commr'],titlecorr['titlePol'])"
      ],
      "execution_count": 46,
      "outputs": [
        {
          "output_type": "execute_result",
          "data": {
            "text/plain": [
              "SpearmanrResult(correlation=-0.004906115738030544, pvalue=0.3710324428805767)"
            ]
          },
          "metadata": {
            "tags": []
          },
          "execution_count": 46
        }
      ]
    },
    {
      "cell_type": "code",
      "metadata": {
        "colab": {
          "base_uri": "https://localhost:8080/"
        },
        "id": "UyD7Efqj0jfp",
        "outputId": "4a9e0157-142d-4c4b-9a1c-dc7bad1f1768"
      },
      "source": [
        "stats.spearmanr(titlecorr['liker'],titlecorr['titlePol'])"
      ],
      "execution_count": 47,
      "outputs": [
        {
          "output_type": "execute_result",
          "data": {
            "text/plain": [
              "SpearmanrResult(correlation=-0.0006184827539708999, pvalue=0.910214146972165)"
            ]
          },
          "metadata": {
            "tags": []
          },
          "execution_count": 47
        }
      ]
    },
    {
      "cell_type": "code",
      "metadata": {
        "colab": {
          "base_uri": "https://localhost:8080/"
        },
        "id": "fL3mVYBKU3je",
        "outputId": "4855cdb2-8886-4156-8bad-081db5825f4b"
      },
      "source": [
        "# Analyis on UK Data\n",
        "\n",
        "# Importing the UK dataset\n",
        "UKData = spark.read.csv('/content/drive/My Drive/GBvideos.csv', inferSchema=True, header=True)\n",
        "UKData.show()"
      ],
      "execution_count": 48,
      "outputs": [
        {
          "output_type": "stream",
          "text": [
            "+-----------+-------------+--------------------+--------------------+-----------+--------------------+--------------------+--------+-------+--------+-------------+--------------------+-----------------+----------------+----------------------+--------------------+\n",
            "|   video_id|trending_date|               title|       channel_title|category_id|        publish_time|                tags|   views|  likes|dislikes|comment_count|      thumbnail_link|comments_disabled|ratings_disabled|video_error_or_removed|         description|\n",
            "+-----------+-------------+--------------------+--------------------+-----------+--------------------+--------------------+--------+-------+--------+-------------+--------------------+-----------------+----------------+----------------------+--------------------+\n",
            "|Jw1Y-zhQURU|     17.14.11|John Lewis Christ...|          John Lewis|         26|2017-11-10T07:38:...|\"christmas\"|\"john...| 7224515|  55681|   10247|         9479|https://i.ytimg.c...|            False|           False|                 False|Click here to con...|\n",
            "|3s1rvMFUweQ|     17.14.11|Taylor Swift: …Re...| Saturday Night Live|         24|2017-11-12T06:24:...|\"SNL\"|\"Saturday N...| 1053632|  25561|    2294|         2757|https://i.ytimg.c...|            False|           False|                 False|Musical guest Tay...|\n",
            "|n1WpP7iowLc|     17.14.11|Eminem - Walk On ...|          EminemVEVO|         10|2017-11-10T17:00:...|\"Eminem\"|\"Walk\"|\"...|17158579| 787420|   43420|       125882|https://i.ytimg.c...|            False|           False|                 False|Eminem's new trac...|\n",
            "|PUTEiSjKwJU|     17.14.11|Goals from Salfor...|Salford City Foot...|         17|2017-11-13T02:30:...|\"Salford City FC\"...|   27833|    193|      12|           37|https://i.ytimg.c...|            False|           False|                 False|Salford drew 4-4 ...|\n",
            "|rHwDegptbI4|     17.14.11|Dashcam captures ...|    Cute Girl Videos|         25|2017-11-13T01:45:...|              [none]|    9815|     30|       2|           30|https://i.ytimg.c...|            False|           False|                 False|Dashcam captures ...|\n",
            "|AumaWl0TNBo|     17.14.11|How My Relationsh...|  PointlessBlogVlogs|         24|2017-11-11T17:00:...|\"pointlessblog\"|\"...| 1182775|  52708|    1431|         2333|https://i.ytimg.c...|            False|           False|                 False|► HOW MY RELATION...|\n",
            "|2Vv-BfVoq4g|     17.14.11|Ed Sheeran - Perf...|          Ed Sheeran|         10|2017-11-09T11:04:...|\"edsheeran\"|\"ed s...|33523622|1634124|   21082|        85067|https://i.ytimg.c...|            False|           False|                 False|🎧: https://ad.gt...|\n",
            "|-N5eucPMTTc|     17.14.11|CHRISTMAS HAS GON...|          MoreZoella|         22|2017-11-10T19:19:...|\"zoe sugg\"|\"zoell...| 1164201|  57309|     749|          624|https://i.ytimg.c...|            False|           False|                 False|CHRISTMAS HAS GON...|\n",
            "|LMCuKltaY3M|     17.14.11|Elbow - Golden Sl...|           ElbowVEVO|         10|2017-11-10T08:00:...|\"Elbow\"|\"Golden\"|...|  154494|   2163|     147|          211|https://i.ytimg.c...|            False|           False|                 False|“Golden Slumbers”...|\n",
            "|9t9u_yPEidY|     17.14.11|Jennifer Lopez - ...|   JenniferLopezVEVO|         10|2017-11-10T15:00:...|\"Jennifer Lopez f...| 9548677| 190084|   15015|        11473|https://i.ytimg.c...|            False|           False|                 False|Jennifer Lopez ft...|\n",
            "|ONQ-fAp5X64|     17.14.11|CAN BABIES DO GYM...|         Nile Wilson|         17|2017-11-11T10:30:...|\"nile wilson\"|\"ni...|  306724|   9591|     266|          448|https://i.ytimg.c...|            False|           False|                 False|➢ Join my FREE 7 ...|\n",
            "|Dlwf5u2BLAg|     17.14.11|TV Reporter Inter...|      Inside Edition|         25|2017-11-10T01:40:...|\"reporter\"|\"robbe...|  254314|   1746|     125|          298|https://i.ytimg.c...|            False|           False|                 False|More from Inside ...|\n",
            "|NVCqz2BDfcQ|     17.14.11|Gucci Mane  - Cur...|   OfficialGucciMane|         10|2017-11-10T17:18:...|\"Gucci Mane\"|\"The...|  946859|  37986|     816|         2006|https://i.ytimg.c...|            False|           False|                 False|Gucci Mane - Curv...|\n",
            "|MyEqfBkzESU|     17.14.11|EXTREME GOLDEN TA...|        John Maclean|         26|2017-11-10T20:40:...|\"Extreme Tan\"|\"Ta...|  300617|   8133|    2693|         2911|https://i.ytimg.c...|            False|           False|                 False|-\\n\\n\\nWebsite - ...|\n",
            "|b4vTZx_AtHk|     17.14.11|How To Dry a Shir...|          HowToBasic|         26|2017-11-09T18:36:...|\"how to dry a shi...| 2063667|  98804|   11682|        11443|https://i.ytimg.c...|            False|           False|                 False|Today I show you ...|\n",
            "|BsfhHKx6ajA|     17.14.11|Attracting An Alp...|Good Mythical Mor...|         24|2017-11-10T11:00:...|\"rhett and link\"|...|  728547|  12553|    2146|         1143|https://i.ytimg.c...|            False|           False|                 False|Trust us, there's...|\n",
            "|DIU3xPdhCBI|     17.14.11|Sam Smith surpris...|           BBC Music|         10|2017-11-09T22:26:...|\"bbc\"|\"music\"|\"bb...|  893462|  22326|     833|          943|https://i.ytimg.c...|            False|           False|                 False|You have to watch...|\n",
            "|pz95u3UVpaM|     17.14.11|Camila Cabello - ...|   CamilaCabelloVEVO|         10|2017-11-10T05:01:...|\"camila cabello\"|...| 5476738| 286269|    4083|        12254|https://i.ytimg.c...|            False|           False|                 False|Havana – Spotify ...|\n",
            "|jp9hK-jY6yY|     17.14.11|When Someone Has ...|      IISuperwomanII|         23|2017-11-09T22:21:...|\"iisuperwomanii\"|...| 3371669| 202676|    3394|        20086|https://i.ytimg.c...|            False|           False|                 False|You know that fee...|\n",
            "|gEHCXl4J9Qo|     17.14.11|Taylor Swift - “N...|ABC Television Ne...|         24|2017-11-10T02:32:...|\"American Broadca...| 2237404|  72593|    1830|         3501|https://i.ytimg.c...|            False|           False|                 False|This intimate fan...|\n",
            "+-----------+-------------+--------------------+--------------------+-----------+--------------------+--------------------+--------+-------+--------+-------------+--------------------+-----------------+----------------+----------------------+--------------------+\n",
            "only showing top 20 rows\n",
            "\n"
          ],
          "name": "stdout"
        }
      ]
    },
    {
      "cell_type": "code",
      "metadata": {
        "colab": {
          "base_uri": "https://localhost:8080/"
        },
        "id": "RwWvVQvMWv02",
        "outputId": "44f4563b-3e13-4046-b9a5-2fe9b31ec899"
      },
      "source": [
        "UKsenti = UKData.select('video_id','description')\n",
        "UKsenti.show()\n",
        "UKDesc = UKsenti[UKsenti['description']!=\"None\"]\n",
        "UKDesc.show()"
      ],
      "execution_count": 49,
      "outputs": [
        {
          "output_type": "stream",
          "text": [
            "+-----------+--------------------+\n",
            "|   video_id|         description|\n",
            "+-----------+--------------------+\n",
            "|Jw1Y-zhQURU|Click here to con...|\n",
            "|3s1rvMFUweQ|Musical guest Tay...|\n",
            "|n1WpP7iowLc|Eminem's new trac...|\n",
            "|PUTEiSjKwJU|Salford drew 4-4 ...|\n",
            "|rHwDegptbI4|Dashcam captures ...|\n",
            "|AumaWl0TNBo|► HOW MY RELATION...|\n",
            "|2Vv-BfVoq4g|🎧: https://ad.gt...|\n",
            "|-N5eucPMTTc|CHRISTMAS HAS GON...|\n",
            "|LMCuKltaY3M|“Golden Slumbers”...|\n",
            "|9t9u_yPEidY|Jennifer Lopez ft...|\n",
            "|ONQ-fAp5X64|➢ Join my FREE 7 ...|\n",
            "|Dlwf5u2BLAg|More from Inside ...|\n",
            "|NVCqz2BDfcQ|Gucci Mane - Curv...|\n",
            "|MyEqfBkzESU|-\\n\\n\\nWebsite - ...|\n",
            "|b4vTZx_AtHk|Today I show you ...|\n",
            "|BsfhHKx6ajA|Trust us, there's...|\n",
            "|DIU3xPdhCBI|You have to watch...|\n",
            "|pz95u3UVpaM|Havana – Spotify ...|\n",
            "|jp9hK-jY6yY|You know that fee...|\n",
            "|gEHCXl4J9Qo|This intimate fan...|\n",
            "+-----------+--------------------+\n",
            "only showing top 20 rows\n",
            "\n",
            "+-----------+--------------------+\n",
            "|   video_id|         description|\n",
            "+-----------+--------------------+\n",
            "|Jw1Y-zhQURU|Click here to con...|\n",
            "|3s1rvMFUweQ|Musical guest Tay...|\n",
            "|n1WpP7iowLc|Eminem's new trac...|\n",
            "|PUTEiSjKwJU|Salford drew 4-4 ...|\n",
            "|rHwDegptbI4|Dashcam captures ...|\n",
            "|AumaWl0TNBo|► HOW MY RELATION...|\n",
            "|2Vv-BfVoq4g|🎧: https://ad.gt...|\n",
            "|-N5eucPMTTc|CHRISTMAS HAS GON...|\n",
            "|LMCuKltaY3M|“Golden Slumbers”...|\n",
            "|9t9u_yPEidY|Jennifer Lopez ft...|\n",
            "|ONQ-fAp5X64|➢ Join my FREE 7 ...|\n",
            "|Dlwf5u2BLAg|More from Inside ...|\n",
            "|NVCqz2BDfcQ|Gucci Mane - Curv...|\n",
            "|MyEqfBkzESU|-\\n\\n\\nWebsite - ...|\n",
            "|b4vTZx_AtHk|Today I show you ...|\n",
            "|BsfhHKx6ajA|Trust us, there's...|\n",
            "|DIU3xPdhCBI|You have to watch...|\n",
            "|pz95u3UVpaM|Havana – Spotify ...|\n",
            "|jp9hK-jY6yY|You know that fee...|\n",
            "|gEHCXl4J9Qo|This intimate fan...|\n",
            "+-----------+--------------------+\n",
            "only showing top 20 rows\n",
            "\n"
          ],
          "name": "stdout"
        }
      ]
    },
    {
      "cell_type": "code",
      "metadata": {
        "colab": {
          "base_uri": "https://localhost:8080/"
        },
        "id": "9Sc4DeLhX3u6",
        "outputId": "d3f1cfb7-ce8c-49de-9f47-9a20470c1616"
      },
      "source": [
        "UKDescPandas = UKDesc.toPandas()\n",
        "UKDescPandas.shape\n"
      ],
      "execution_count": 50,
      "outputs": [
        {
          "output_type": "execute_result",
          "data": {
            "text/plain": [
              "(38338, 2)"
            ]
          },
          "metadata": {
            "tags": []
          },
          "execution_count": 50
        }
      ]
    },
    {
      "cell_type": "code",
      "metadata": {
        "id": "3tnOunoDXH9M"
      },
      "source": [
        "# Calculating the Sentiment Polarity of Description\n",
        "\n",
        "pol=[] # list which will contain the polarity of the description\n",
        "for i in UKDescPandas.description.values:\n",
        "    try:\n",
        "        analysis =TextBlob(i)\n",
        "        pol.append(analysis.sentiment.polarity)\n",
        "        \n",
        "    except:\n",
        "        pol.append(0)"
      ],
      "execution_count": 51,
      "outputs": []
    },
    {
      "cell_type": "code",
      "metadata": {
        "colab": {
          "base_uri": "https://localhost:8080/",
          "height": 359
        },
        "id": "yRfJZskDXS45",
        "outputId": "a0271491-07b9-422e-9306-4908cbf66741"
      },
      "source": [
        "UKDescPandas['pol']= pol\n",
        "UKDescPandas.head(10)"
      ],
      "execution_count": 52,
      "outputs": [
        {
          "output_type": "execute_result",
          "data": {
            "text/html": [
              "<div>\n",
              "<style scoped>\n",
              "    .dataframe tbody tr th:only-of-type {\n",
              "        vertical-align: middle;\n",
              "    }\n",
              "\n",
              "    .dataframe tbody tr th {\n",
              "        vertical-align: top;\n",
              "    }\n",
              "\n",
              "    .dataframe thead th {\n",
              "        text-align: right;\n",
              "    }\n",
              "</style>\n",
              "<table border=\"1\" class=\"dataframe\">\n",
              "  <thead>\n",
              "    <tr style=\"text-align: right;\">\n",
              "      <th></th>\n",
              "      <th>video_id</th>\n",
              "      <th>description</th>\n",
              "      <th>pol</th>\n",
              "    </tr>\n",
              "  </thead>\n",
              "  <tbody>\n",
              "    <tr>\n",
              "      <th>0</th>\n",
              "      <td>Jw1Y-zhQURU</td>\n",
              "      <td>Click here to continue the story and make your...</td>\n",
              "      <td>0.263889</td>\n",
              "    </tr>\n",
              "    <tr>\n",
              "      <th>1</th>\n",
              "      <td>3s1rvMFUweQ</td>\n",
              "      <td>Musical guest Taylor Swift performs …Ready for...</td>\n",
              "      <td>0.250000</td>\n",
              "    </tr>\n",
              "    <tr>\n",
              "      <th>2</th>\n",
              "      <td>n1WpP7iowLc</td>\n",
              "      <td>Eminem's new track Walk on Water ft. Beyoncé i...</td>\n",
              "      <td>0.507273</td>\n",
              "    </tr>\n",
              "    <tr>\n",
              "      <th>3</th>\n",
              "      <td>PUTEiSjKwJU</td>\n",
              "      <td>Salford drew 4-4 against the Class of 92 and F...</td>\n",
              "      <td>0.136364</td>\n",
              "    </tr>\n",
              "    <tr>\n",
              "      <th>4</th>\n",
              "      <td>rHwDegptbI4</td>\n",
              "      <td>Dashcam captures truck's near miss with child ...</td>\n",
              "      <td>0.100000</td>\n",
              "    </tr>\n",
              "    <tr>\n",
              "      <th>5</th>\n",
              "      <td>AumaWl0TNBo</td>\n",
              "      <td>► HOW MY RELATIONSHIP STARTED!\\n► PB Merch • h...</td>\n",
              "      <td>0.000000</td>\n",
              "    </tr>\n",
              "    <tr>\n",
              "      <th>6</th>\n",
              "      <td>2Vv-BfVoq4g</td>\n",
              "      <td>🎧: https://ad.gt/yt-perfect\\n💰: https://atlant...</td>\n",
              "      <td>0.200000</td>\n",
              "    </tr>\n",
              "    <tr>\n",
              "      <th>7</th>\n",
              "      <td>-N5eucPMTTc</td>\n",
              "      <td>CHRISTMAS HAS GONE TO MY HEAD\\nPrevious Vlog: ...</td>\n",
              "      <td>-0.037500</td>\n",
              "    </tr>\n",
              "    <tr>\n",
              "      <th>8</th>\n",
              "      <td>LMCuKltaY3M</td>\n",
              "      <td>“Golden Slumbers”, originally by The Beatles, ...</td>\n",
              "      <td>0.351894</td>\n",
              "    </tr>\n",
              "    <tr>\n",
              "      <th>9</th>\n",
              "      <td>9t9u_yPEidY</td>\n",
              "      <td>Jennifer Lopez ft. Wisin - Amor, Amor, Amor (O...</td>\n",
              "      <td>0.200000</td>\n",
              "    </tr>\n",
              "  </tbody>\n",
              "</table>\n",
              "</div>"
            ],
            "text/plain": [
              "      video_id                                        description       pol\n",
              "0  Jw1Y-zhQURU  Click here to continue the story and make your...  0.263889\n",
              "1  3s1rvMFUweQ  Musical guest Taylor Swift performs …Ready for...  0.250000\n",
              "2  n1WpP7iowLc  Eminem's new track Walk on Water ft. Beyoncé i...  0.507273\n",
              "3  PUTEiSjKwJU  Salford drew 4-4 against the Class of 92 and F...  0.136364\n",
              "4  rHwDegptbI4  Dashcam captures truck's near miss with child ...  0.100000\n",
              "5  AumaWl0TNBo  ► HOW MY RELATIONSHIP STARTED!\\n► PB Merch • h...  0.000000\n",
              "6  2Vv-BfVoq4g  🎧: https://ad.gt/yt-perfect\\n💰: https://atlant...  0.200000\n",
              "7  -N5eucPMTTc  CHRISTMAS HAS GONE TO MY HEAD\\nPrevious Vlog: ... -0.037500\n",
              "8  LMCuKltaY3M  “Golden Slumbers”, originally by The Beatles, ...  0.351894\n",
              "9  9t9u_yPEidY  Jennifer Lopez ft. Wisin - Amor, Amor, Amor (O...  0.200000"
            ]
          },
          "metadata": {
            "tags": []
          },
          "execution_count": 52
        }
      ]
    },
    {
      "cell_type": "code",
      "metadata": {
        "colab": {
          "base_uri": "https://localhost:8080/",
          "height": 966
        },
        "id": "hq4WocrJXpcV",
        "outputId": "319a904a-b344-46be-b2d3-297026b6fb06"
      },
      "source": [
        "# Converting to the desired type\n",
        "\n",
        "UKDataPn = UKData.toPandas()\n",
        "UKDataPn['views'] = pd.to_numeric(UKDataPn['views'], errors='coerce')\n",
        "UKDataPn['likes'] = pd.to_numeric(UKDataPn['likes'], errors='coerce')\n",
        "UKDataPn['dislikes'] = pd.to_numeric(UKDataPn['dislikes'], errors='coerce')\n",
        "UKDataPn['comment_count'] = pd.to_numeric(UKDataPn['comment_count'], errors='coerce')\n",
        "UKDataPn = UKDataPn.dropna()\n",
        "UKDataPn['descPol'] = UKDescPandas['pol']\n",
        "UKDataPn['ldr'] = UKDataPn['likes']/UKDataPn['dislikes']\n",
        "UKDataPn['liker'] = UKDataPn['likes']/UKDataPn['views']\n",
        "UKDataPn['commr']= UKDataPn['comment_count']/UKDataPn['views']\n",
        "UKDataPn"
      ],
      "execution_count": 53,
      "outputs": [
        {
          "output_type": "execute_result",
          "data": {
            "text/html": [
              "<div>\n",
              "<style scoped>\n",
              "    .dataframe tbody tr th:only-of-type {\n",
              "        vertical-align: middle;\n",
              "    }\n",
              "\n",
              "    .dataframe tbody tr th {\n",
              "        vertical-align: top;\n",
              "    }\n",
              "\n",
              "    .dataframe thead th {\n",
              "        text-align: right;\n",
              "    }\n",
              "</style>\n",
              "<table border=\"1\" class=\"dataframe\">\n",
              "  <thead>\n",
              "    <tr style=\"text-align: right;\">\n",
              "      <th></th>\n",
              "      <th>video_id</th>\n",
              "      <th>trending_date</th>\n",
              "      <th>title</th>\n",
              "      <th>channel_title</th>\n",
              "      <th>category_id</th>\n",
              "      <th>publish_time</th>\n",
              "      <th>tags</th>\n",
              "      <th>views</th>\n",
              "      <th>likes</th>\n",
              "      <th>dislikes</th>\n",
              "      <th>comment_count</th>\n",
              "      <th>thumbnail_link</th>\n",
              "      <th>comments_disabled</th>\n",
              "      <th>ratings_disabled</th>\n",
              "      <th>video_error_or_removed</th>\n",
              "      <th>description</th>\n",
              "      <th>descPol</th>\n",
              "      <th>ldr</th>\n",
              "      <th>liker</th>\n",
              "      <th>commr</th>\n",
              "    </tr>\n",
              "  </thead>\n",
              "  <tbody>\n",
              "    <tr>\n",
              "      <th>0</th>\n",
              "      <td>Jw1Y-zhQURU</td>\n",
              "      <td>17.14.11</td>\n",
              "      <td>John Lewis Christmas Ad 2017 - #MozTheMonster</td>\n",
              "      <td>John Lewis</td>\n",
              "      <td>26</td>\n",
              "      <td>2017-11-10T07:38:29.000Z</td>\n",
              "      <td>\"christmas\"|\"john lewis christmas\"|\"john lewis...</td>\n",
              "      <td>7224515.0</td>\n",
              "      <td>55681.0</td>\n",
              "      <td>10247.0</td>\n",
              "      <td>9479.0</td>\n",
              "      <td>https://i.ytimg.com/vi/Jw1Y-zhQURU/default.jpg</td>\n",
              "      <td>False</td>\n",
              "      <td>False</td>\n",
              "      <td>False</td>\n",
              "      <td>Click here to continue the story and make your...</td>\n",
              "      <td>0.263889</td>\n",
              "      <td>5.433883</td>\n",
              "      <td>0.007707</td>\n",
              "      <td>0.001312</td>\n",
              "    </tr>\n",
              "    <tr>\n",
              "      <th>1</th>\n",
              "      <td>3s1rvMFUweQ</td>\n",
              "      <td>17.14.11</td>\n",
              "      <td>Taylor Swift: …Ready for It? (Live) - SNL</td>\n",
              "      <td>Saturday Night Live</td>\n",
              "      <td>24</td>\n",
              "      <td>2017-11-12T06:24:44.000Z</td>\n",
              "      <td>\"SNL\"|\"Saturday Night Live\"|\"SNL Season 43\"|\"E...</td>\n",
              "      <td>1053632.0</td>\n",
              "      <td>25561.0</td>\n",
              "      <td>2294.0</td>\n",
              "      <td>2757.0</td>\n",
              "      <td>https://i.ytimg.com/vi/3s1rvMFUweQ/default.jpg</td>\n",
              "      <td>False</td>\n",
              "      <td>False</td>\n",
              "      <td>False</td>\n",
              "      <td>Musical guest Taylor Swift performs …Ready for...</td>\n",
              "      <td>0.250000</td>\n",
              "      <td>11.142546</td>\n",
              "      <td>0.024260</td>\n",
              "      <td>0.002617</td>\n",
              "    </tr>\n",
              "    <tr>\n",
              "      <th>2</th>\n",
              "      <td>n1WpP7iowLc</td>\n",
              "      <td>17.14.11</td>\n",
              "      <td>Eminem - Walk On Water (Audio) ft. Beyoncé</td>\n",
              "      <td>EminemVEVO</td>\n",
              "      <td>10</td>\n",
              "      <td>2017-11-10T17:00:03.000Z</td>\n",
              "      <td>\"Eminem\"|\"Walk\"|\"On\"|\"Water\"|\"Aftermath/Shady/...</td>\n",
              "      <td>17158579.0</td>\n",
              "      <td>787420.0</td>\n",
              "      <td>43420.0</td>\n",
              "      <td>125882.0</td>\n",
              "      <td>https://i.ytimg.com/vi/n1WpP7iowLc/default.jpg</td>\n",
              "      <td>False</td>\n",
              "      <td>False</td>\n",
              "      <td>False</td>\n",
              "      <td>Eminem's new track Walk on Water ft. Beyoncé i...</td>\n",
              "      <td>0.507273</td>\n",
              "      <td>18.134961</td>\n",
              "      <td>0.045891</td>\n",
              "      <td>0.007336</td>\n",
              "    </tr>\n",
              "    <tr>\n",
              "      <th>3</th>\n",
              "      <td>PUTEiSjKwJU</td>\n",
              "      <td>17.14.11</td>\n",
              "      <td>Goals from Salford City vs Class of 92 and Fri...</td>\n",
              "      <td>Salford City Football Club</td>\n",
              "      <td>17</td>\n",
              "      <td>2017-11-13T02:30:38.000Z</td>\n",
              "      <td>\"Salford City FC\"|\"Salford City\"|\"Salford\"|\"Cl...</td>\n",
              "      <td>27833.0</td>\n",
              "      <td>193.0</td>\n",
              "      <td>12.0</td>\n",
              "      <td>37.0</td>\n",
              "      <td>https://i.ytimg.com/vi/PUTEiSjKwJU/default.jpg</td>\n",
              "      <td>False</td>\n",
              "      <td>False</td>\n",
              "      <td>False</td>\n",
              "      <td>Salford drew 4-4 against the Class of 92 and F...</td>\n",
              "      <td>0.136364</td>\n",
              "      <td>16.083333</td>\n",
              "      <td>0.006934</td>\n",
              "      <td>0.001329</td>\n",
              "    </tr>\n",
              "    <tr>\n",
              "      <th>4</th>\n",
              "      <td>rHwDegptbI4</td>\n",
              "      <td>17.14.11</td>\n",
              "      <td>Dashcam captures truck's near miss with child ...</td>\n",
              "      <td>Cute Girl Videos</td>\n",
              "      <td>25</td>\n",
              "      <td>2017-11-13T01:45:13.000Z</td>\n",
              "      <td>[none]</td>\n",
              "      <td>9815.0</td>\n",
              "      <td>30.0</td>\n",
              "      <td>2.0</td>\n",
              "      <td>30.0</td>\n",
              "      <td>https://i.ytimg.com/vi/rHwDegptbI4/default.jpg</td>\n",
              "      <td>False</td>\n",
              "      <td>False</td>\n",
              "      <td>False</td>\n",
              "      <td>Dashcam captures truck's near miss with child ...</td>\n",
              "      <td>0.100000</td>\n",
              "      <td>15.000000</td>\n",
              "      <td>0.003057</td>\n",
              "      <td>0.003057</td>\n",
              "    </tr>\n",
              "    <tr>\n",
              "      <th>...</th>\n",
              "      <td>...</td>\n",
              "      <td>...</td>\n",
              "      <td>...</td>\n",
              "      <td>...</td>\n",
              "      <td>...</td>\n",
              "      <td>...</td>\n",
              "      <td>...</td>\n",
              "      <td>...</td>\n",
              "      <td>...</td>\n",
              "      <td>...</td>\n",
              "      <td>...</td>\n",
              "      <td>...</td>\n",
              "      <td>...</td>\n",
              "      <td>...</td>\n",
              "      <td>...</td>\n",
              "      <td>...</td>\n",
              "      <td>...</td>\n",
              "      <td>...</td>\n",
              "      <td>...</td>\n",
              "      <td>...</td>\n",
              "    </tr>\n",
              "    <tr>\n",
              "      <th>43290</th>\n",
              "      <td>l884wKofd54</td>\n",
              "      <td>18.14.06</td>\n",
              "      <td>Enrique Iglesias - MOVE TO MIAMI (Official Vid...</td>\n",
              "      <td>EnriqueIglesiasVEVO</td>\n",
              "      <td>10</td>\n",
              "      <td>2018-05-09T07:00:01.000Z</td>\n",
              "      <td>\"Enrique Iglesias feat. Pitbull\"|\"MOVE TO MIAM...</td>\n",
              "      <td>25066952.0</td>\n",
              "      <td>268088.0</td>\n",
              "      <td>12783.0</td>\n",
              "      <td>9933.0</td>\n",
              "      <td>https://i.ytimg.com/vi/l884wKofd54/default.jpg</td>\n",
              "      <td>False</td>\n",
              "      <td>False</td>\n",
              "      <td>False</td>\n",
              "      <td>NEW SONG - MOVE TO MIAMI feat. Pitbull (Click ...</td>\n",
              "      <td>NaN</td>\n",
              "      <td>20.972229</td>\n",
              "      <td>0.010695</td>\n",
              "      <td>0.000396</td>\n",
              "    </tr>\n",
              "    <tr>\n",
              "      <th>43291</th>\n",
              "      <td>IP8k2xkhOdI</td>\n",
              "      <td>18.14.06</td>\n",
              "      <td>Jacob Sartorius - Up With It (Official Music V...</td>\n",
              "      <td>Jacob Sartorius</td>\n",
              "      <td>10</td>\n",
              "      <td>2018-05-11T17:09:16.000Z</td>\n",
              "      <td>\"jacob sartorius\"|\"jacob\"|\"up with it\"|\"jacob ...</td>\n",
              "      <td>1492219.0</td>\n",
              "      <td>61998.0</td>\n",
              "      <td>13781.0</td>\n",
              "      <td>24330.0</td>\n",
              "      <td>https://i.ytimg.com/vi/IP8k2xkhOdI/default.jpg</td>\n",
              "      <td>False</td>\n",
              "      <td>False</td>\n",
              "      <td>False</td>\n",
              "      <td>THE OFFICIAL UP WITH IT MUSIC VIDEO!Get my new...</td>\n",
              "      <td>NaN</td>\n",
              "      <td>4.498803</td>\n",
              "      <td>0.041548</td>\n",
              "      <td>0.016305</td>\n",
              "    </tr>\n",
              "    <tr>\n",
              "      <th>43292</th>\n",
              "      <td>Il-an3K9pjg</td>\n",
              "      <td>18.14.06</td>\n",
              "      <td>Anne-Marie - 2002 [Official Video]</td>\n",
              "      <td>Anne-Marie</td>\n",
              "      <td>10</td>\n",
              "      <td>2018-05-08T11:05:08.000Z</td>\n",
              "      <td>\"anne\"|\"marie\"|\"anne-marie\"|\"2002\"|\"two thousa...</td>\n",
              "      <td>29641412.0</td>\n",
              "      <td>394830.0</td>\n",
              "      <td>8892.0</td>\n",
              "      <td>19988.0</td>\n",
              "      <td>https://i.ytimg.com/vi/Il-an3K9pjg/default.jpg</td>\n",
              "      <td>False</td>\n",
              "      <td>False</td>\n",
              "      <td>False</td>\n",
              "      <td>Get 2002 by Anne-Marie HERE ▶ http://ad.gt/200...</td>\n",
              "      <td>NaN</td>\n",
              "      <td>44.402834</td>\n",
              "      <td>0.013320</td>\n",
              "      <td>0.000674</td>\n",
              "    </tr>\n",
              "    <tr>\n",
              "      <th>43293</th>\n",
              "      <td>-DRsfNObKIQ</td>\n",
              "      <td>18.14.06</td>\n",
              "      <td>Eleni Foureira - Fuego - Cyprus - LIVE - First...</td>\n",
              "      <td>Eurovision Song Contest</td>\n",
              "      <td>24</td>\n",
              "      <td>2018-05-08T20:32:32.000Z</td>\n",
              "      <td>\"Eurovision Song Contest\"|\"2018\"|\"Lisbon\"|\"Cyp...</td>\n",
              "      <td>14317515.0</td>\n",
              "      <td>151870.0</td>\n",
              "      <td>45875.0</td>\n",
              "      <td>26766.0</td>\n",
              "      <td>https://i.ytimg.com/vi/-DRsfNObKIQ/default.jpg</td>\n",
              "      <td>False</td>\n",
              "      <td>False</td>\n",
              "      <td>False</td>\n",
              "      <td>Eleni Foureira represented Cyprus at the first...</td>\n",
              "      <td>NaN</td>\n",
              "      <td>3.310518</td>\n",
              "      <td>0.010607</td>\n",
              "      <td>0.001869</td>\n",
              "    </tr>\n",
              "    <tr>\n",
              "      <th>43294</th>\n",
              "      <td>4YFo4bdMO8Q</td>\n",
              "      <td>18.14.06</td>\n",
              "      <td>KYLE - Ikuyo feat.  2 Chainz &amp; Sophia Black [A...</td>\n",
              "      <td>SuperDuperKyle</td>\n",
              "      <td>10</td>\n",
              "      <td>2018-05-11T04:06:35.000Z</td>\n",
              "      <td>\"Kyle\"|\"SuperDuperKyle\"|\"Ikuyo\"|\"2 Chainz\"|\"So...</td>\n",
              "      <td>607552.0</td>\n",
              "      <td>18271.0</td>\n",
              "      <td>274.0</td>\n",
              "      <td>1423.0</td>\n",
              "      <td>https://i.ytimg.com/vi/4YFo4bdMO8Q/default.jpg</td>\n",
              "      <td>False</td>\n",
              "      <td>False</td>\n",
              "      <td>False</td>\n",
              "      <td>Debut album 'Light of Mine' out now: http://ky...</td>\n",
              "      <td>NaN</td>\n",
              "      <td>66.682482</td>\n",
              "      <td>0.030073</td>\n",
              "      <td>0.002342</td>\n",
              "    </tr>\n",
              "  </tbody>\n",
              "</table>\n",
              "<p>38304 rows × 20 columns</p>\n",
              "</div>"
            ],
            "text/plain": [
              "          video_id trending_date  ...     liker     commr\n",
              "0      Jw1Y-zhQURU      17.14.11  ...  0.007707  0.001312\n",
              "1      3s1rvMFUweQ      17.14.11  ...  0.024260  0.002617\n",
              "2      n1WpP7iowLc      17.14.11  ...  0.045891  0.007336\n",
              "3      PUTEiSjKwJU      17.14.11  ...  0.006934  0.001329\n",
              "4      rHwDegptbI4      17.14.11  ...  0.003057  0.003057\n",
              "...            ...           ...  ...       ...       ...\n",
              "43290  l884wKofd54      18.14.06  ...  0.010695  0.000396\n",
              "43291  IP8k2xkhOdI      18.14.06  ...  0.041548  0.016305\n",
              "43292  Il-an3K9pjg      18.14.06  ...  0.013320  0.000674\n",
              "43293  -DRsfNObKIQ      18.14.06  ...  0.010607  0.001869\n",
              "43294  4YFo4bdMO8Q      18.14.06  ...  0.030073  0.002342\n",
              "\n",
              "[38304 rows x 20 columns]"
            ]
          },
          "metadata": {
            "tags": []
          },
          "execution_count": 53
        }
      ]
    },
    {
      "cell_type": "code",
      "metadata": {
        "id": "Zx9EMhcphpMv"
      },
      "source": [
        "desccorUK = UKDataPn.dropna()"
      ],
      "execution_count": 54,
      "outputs": []
    },
    {
      "cell_type": "code",
      "metadata": {
        "colab": {
          "base_uri": "https://localhost:8080/"
        },
        "id": "B3sTZOpPhpmn",
        "outputId": "7f8c82f2-7de0-4fbc-e1d3-8d1d2012d56e"
      },
      "source": [
        "stats.spearmanr(desccorUK['liker'],desccorUK['descPol'])"
      ],
      "execution_count": 55,
      "outputs": [
        {
          "output_type": "execute_result",
          "data": {
            "text/plain": [
              "SpearmanrResult(correlation=-0.008641855027108116, pvalue=0.11396336631267523)"
            ]
          },
          "metadata": {
            "tags": []
          },
          "execution_count": 55
        }
      ]
    },
    {
      "cell_type": "code",
      "metadata": {
        "colab": {
          "base_uri": "https://localhost:8080/"
        },
        "id": "9BhHvn62h_KT",
        "outputId": "10e6bf0d-1695-4390-8c06-669e2587fe30"
      },
      "source": [
        "stats.spearmanr(desccorUK['commr'],desccorUK['descPol'])"
      ],
      "execution_count": 56,
      "outputs": [
        {
          "output_type": "execute_result",
          "data": {
            "text/plain": [
              "SpearmanrResult(correlation=-0.007659128999934374, pvalue=0.16125082070398217)"
            ]
          },
          "metadata": {
            "tags": []
          },
          "execution_count": 56
        }
      ]
    },
    {
      "cell_type": "code",
      "metadata": {
        "colab": {
          "base_uri": "https://localhost:8080/"
        },
        "id": "e7XRdgyGiGC1",
        "outputId": "5d90ea7e-2cf9-412c-8973-ad2619a308de"
      },
      "source": [
        "stats.spearmanr(desccorUK['ldr'],desccorUK['descPol'])"
      ],
      "execution_count": 57,
      "outputs": [
        {
          "output_type": "execute_result",
          "data": {
            "text/plain": [
              "SpearmanrResult(correlation=-0.004445933393558229, pvalue=0.41612270095312165)"
            ]
          },
          "metadata": {
            "tags": []
          },
          "execution_count": 57
        }
      ]
    },
    {
      "cell_type": "code",
      "metadata": {
        "colab": {
          "base_uri": "https://localhost:8080/"
        },
        "id": "276OrlbviJqY",
        "outputId": "e1c7eb17-2117-4f4a-e27e-0b06f2d70df4"
      },
      "source": [
        "stats.spearmanr(desccorUK['views'],desccorUK['descPol'])"
      ],
      "execution_count": 58,
      "outputs": [
        {
          "output_type": "execute_result",
          "data": {
            "text/plain": [
              "SpearmanrResult(correlation=0.004905275454399186, pvalue=0.3696220835157922)"
            ]
          },
          "metadata": {
            "tags": []
          },
          "execution_count": 58
        }
      ]
    },
    {
      "cell_type": "code",
      "metadata": {
        "colab": {
          "base_uri": "https://localhost:8080/"
        },
        "id": "XykuCzL8iNRw",
        "outputId": "3fc1d288-9249-4c88-e8d8-5f57b8a46d43"
      },
      "source": [
        "# Analysis on Tags of UK\n",
        "UKTags = UKData.select('video_id','tags')\n",
        "UKTags.show()"
      ],
      "execution_count": 59,
      "outputs": [
        {
          "output_type": "stream",
          "text": [
            "+-----------+--------------------+\n",
            "|   video_id|                tags|\n",
            "+-----------+--------------------+\n",
            "|Jw1Y-zhQURU|\"christmas\"|\"john...|\n",
            "|3s1rvMFUweQ|\"SNL\"|\"Saturday N...|\n",
            "|n1WpP7iowLc|\"Eminem\"|\"Walk\"|\"...|\n",
            "|PUTEiSjKwJU|\"Salford City FC\"...|\n",
            "|rHwDegptbI4|              [none]|\n",
            "|AumaWl0TNBo|\"pointlessblog\"|\"...|\n",
            "|2Vv-BfVoq4g|\"edsheeran\"|\"ed s...|\n",
            "|-N5eucPMTTc|\"zoe sugg\"|\"zoell...|\n",
            "|LMCuKltaY3M|\"Elbow\"|\"Golden\"|...|\n",
            "|9t9u_yPEidY|\"Jennifer Lopez f...|\n",
            "|ONQ-fAp5X64|\"nile wilson\"|\"ni...|\n",
            "|Dlwf5u2BLAg|\"reporter\"|\"robbe...|\n",
            "|NVCqz2BDfcQ|\"Gucci Mane\"|\"The...|\n",
            "|MyEqfBkzESU|\"Extreme Tan\"|\"Ta...|\n",
            "|b4vTZx_AtHk|\"how to dry a shi...|\n",
            "|BsfhHKx6ajA|\"rhett and link\"|...|\n",
            "|DIU3xPdhCBI|\"bbc\"|\"music\"|\"bb...|\n",
            "|pz95u3UVpaM|\"camila cabello\"|...|\n",
            "|jp9hK-jY6yY|\"iisuperwomanii\"|...|\n",
            "|gEHCXl4J9Qo|\"American Broadca...|\n",
            "+-----------+--------------------+\n",
            "only showing top 20 rows\n",
            "\n"
          ],
          "name": "stdout"
        }
      ]
    },
    {
      "cell_type": "code",
      "metadata": {
        "colab": {
          "base_uri": "https://localhost:8080/"
        },
        "id": "zdFbx7otiXcI",
        "outputId": "80ec1cb5-eaca-4546-c2d1-8983278d2685"
      },
      "source": [
        "# Filtering tags\n",
        "UKTags = UKTags[UKTags['tags']!=\"None\"]\n",
        "UKTags.show()"
      ],
      "execution_count": 60,
      "outputs": [
        {
          "output_type": "stream",
          "text": [
            "+-----------+--------------------+\n",
            "|   video_id|                tags|\n",
            "+-----------+--------------------+\n",
            "|Jw1Y-zhQURU|\"christmas\"|\"john...|\n",
            "|3s1rvMFUweQ|\"SNL\"|\"Saturday N...|\n",
            "|n1WpP7iowLc|\"Eminem\"|\"Walk\"|\"...|\n",
            "|PUTEiSjKwJU|\"Salford City FC\"...|\n",
            "|rHwDegptbI4|              [none]|\n",
            "|AumaWl0TNBo|\"pointlessblog\"|\"...|\n",
            "|2Vv-BfVoq4g|\"edsheeran\"|\"ed s...|\n",
            "|-N5eucPMTTc|\"zoe sugg\"|\"zoell...|\n",
            "|LMCuKltaY3M|\"Elbow\"|\"Golden\"|...|\n",
            "|9t9u_yPEidY|\"Jennifer Lopez f...|\n",
            "|ONQ-fAp5X64|\"nile wilson\"|\"ni...|\n",
            "|Dlwf5u2BLAg|\"reporter\"|\"robbe...|\n",
            "|NVCqz2BDfcQ|\"Gucci Mane\"|\"The...|\n",
            "|MyEqfBkzESU|\"Extreme Tan\"|\"Ta...|\n",
            "|b4vTZx_AtHk|\"how to dry a shi...|\n",
            "|BsfhHKx6ajA|\"rhett and link\"|...|\n",
            "|DIU3xPdhCBI|\"bbc\"|\"music\"|\"bb...|\n",
            "|pz95u3UVpaM|\"camila cabello\"|...|\n",
            "|jp9hK-jY6yY|\"iisuperwomanii\"|...|\n",
            "|gEHCXl4J9Qo|\"American Broadca...|\n",
            "+-----------+--------------------+\n",
            "only showing top 20 rows\n",
            "\n"
          ],
          "name": "stdout"
        }
      ]
    },
    {
      "cell_type": "code",
      "metadata": {
        "colab": {
          "base_uri": "https://localhost:8080/"
        },
        "id": "vRbKvI__ibDN",
        "outputId": "828e745a-06b5-45f1-d8e5-55f61cb48c23"
      },
      "source": [
        "UKTagsPandas = UKTags.toPandas()\n",
        "UKTagsPandas.shape"
      ],
      "execution_count": 61,
      "outputs": [
        {
          "output_type": "execute_result",
          "data": {
            "text/plain": [
              "(39053, 2)"
            ]
          },
          "metadata": {
            "tags": []
          },
          "execution_count": 61
        }
      ]
    },
    {
      "cell_type": "code",
      "metadata": {
        "id": "8ni0L41piihP"
      },
      "source": [
        "# Calculating the Sentiment Polarity of UK Tags\n",
        "\n",
        "polTags=[] # list which will contain the polarity of the tags\n",
        "for i in UKTagsPandas.tags.values:\n",
        "    try:\n",
        "        analysis =TextBlob(i)\n",
        "        polTags.append(analysis.sentiment.polarity)\n",
        "        \n",
        "    except:\n",
        "        polTags.append(0)"
      ],
      "execution_count": 62,
      "outputs": []
    },
    {
      "cell_type": "code",
      "metadata": {
        "id": "CTqfVMQDimof"
      },
      "source": [
        "UKTagsPandas['pol']= polTags"
      ],
      "execution_count": 63,
      "outputs": []
    },
    {
      "cell_type": "code",
      "metadata": {
        "colab": {
          "base_uri": "https://localhost:8080/",
          "height": 359
        },
        "id": "WJUj_lkMipcq",
        "outputId": "a9a75e3e-36fe-4a6d-d882-878dc15fad81"
      },
      "source": [
        "UKTagsPandas.head(10)"
      ],
      "execution_count": 64,
      "outputs": [
        {
          "output_type": "execute_result",
          "data": {
            "text/html": [
              "<div>\n",
              "<style scoped>\n",
              "    .dataframe tbody tr th:only-of-type {\n",
              "        vertical-align: middle;\n",
              "    }\n",
              "\n",
              "    .dataframe tbody tr th {\n",
              "        vertical-align: top;\n",
              "    }\n",
              "\n",
              "    .dataframe thead th {\n",
              "        text-align: right;\n",
              "    }\n",
              "</style>\n",
              "<table border=\"1\" class=\"dataframe\">\n",
              "  <thead>\n",
              "    <tr style=\"text-align: right;\">\n",
              "      <th></th>\n",
              "      <th>video_id</th>\n",
              "      <th>tags</th>\n",
              "      <th>pol</th>\n",
              "    </tr>\n",
              "  </thead>\n",
              "  <tbody>\n",
              "    <tr>\n",
              "      <th>0</th>\n",
              "      <td>Jw1Y-zhQURU</td>\n",
              "      <td>\"christmas\"|\"john lewis christmas\"|\"john lewis...</td>\n",
              "      <td>0.000000</td>\n",
              "    </tr>\n",
              "    <tr>\n",
              "      <th>1</th>\n",
              "      <td>3s1rvMFUweQ</td>\n",
              "      <td>\"SNL\"|\"Saturday Night Live\"|\"SNL Season 43\"|\"E...</td>\n",
              "      <td>0.188258</td>\n",
              "    </tr>\n",
              "    <tr>\n",
              "      <th>2</th>\n",
              "      <td>n1WpP7iowLc</td>\n",
              "      <td>\"Eminem\"|\"Walk\"|\"On\"|\"Water\"|\"Aftermath/Shady/...</td>\n",
              "      <td>0.000000</td>\n",
              "    </tr>\n",
              "    <tr>\n",
              "      <th>3</th>\n",
              "      <td>PUTEiSjKwJU</td>\n",
              "      <td>\"Salford City FC\"|\"Salford City\"|\"Salford\"|\"Cl...</td>\n",
              "      <td>0.000000</td>\n",
              "    </tr>\n",
              "    <tr>\n",
              "      <th>4</th>\n",
              "      <td>rHwDegptbI4</td>\n",
              "      <td>[none]</td>\n",
              "      <td>0.000000</td>\n",
              "    </tr>\n",
              "    <tr>\n",
              "      <th>5</th>\n",
              "      <td>AumaWl0TNBo</td>\n",
              "      <td>\"pointlessblog\"|\"pointlessblogtv\"|\"pointlessbl...</td>\n",
              "      <td>0.168831</td>\n",
              "    </tr>\n",
              "    <tr>\n",
              "      <th>6</th>\n",
              "      <td>2Vv-BfVoq4g</td>\n",
              "      <td>\"edsheeran\"|\"ed sheeran\"|\"acoustic\"|\"live\"|\"co...</td>\n",
              "      <td>0.136364</td>\n",
              "    </tr>\n",
              "    <tr>\n",
              "      <th>7</th>\n",
              "      <td>-N5eucPMTTc</td>\n",
              "      <td>\"zoe sugg\"|\"zoella\"|\"zoe\"|\"vlog\"|\"vlogging\"|\"v...</td>\n",
              "      <td>0.000000</td>\n",
              "    </tr>\n",
              "    <tr>\n",
              "      <th>8</th>\n",
              "      <td>LMCuKltaY3M</td>\n",
              "      <td>\"Elbow\"|\"Golden\"|\"Slumbers\"|\"Polydor\"|\"Alterna...</td>\n",
              "      <td>0.300000</td>\n",
              "    </tr>\n",
              "    <tr>\n",
              "      <th>9</th>\n",
              "      <td>9t9u_yPEidY</td>\n",
              "      <td>\"Jennifer Lopez ft. Wisin\"|\"Jennifer Lopez ft....</td>\n",
              "      <td>-0.002165</td>\n",
              "    </tr>\n",
              "  </tbody>\n",
              "</table>\n",
              "</div>"
            ],
            "text/plain": [
              "      video_id                                               tags       pol\n",
              "0  Jw1Y-zhQURU  \"christmas\"|\"john lewis christmas\"|\"john lewis...  0.000000\n",
              "1  3s1rvMFUweQ  \"SNL\"|\"Saturday Night Live\"|\"SNL Season 43\"|\"E...  0.188258\n",
              "2  n1WpP7iowLc  \"Eminem\"|\"Walk\"|\"On\"|\"Water\"|\"Aftermath/Shady/...  0.000000\n",
              "3  PUTEiSjKwJU  \"Salford City FC\"|\"Salford City\"|\"Salford\"|\"Cl...  0.000000\n",
              "4  rHwDegptbI4                                             [none]  0.000000\n",
              "5  AumaWl0TNBo  \"pointlessblog\"|\"pointlessblogtv\"|\"pointlessbl...  0.168831\n",
              "6  2Vv-BfVoq4g  \"edsheeran\"|\"ed sheeran\"|\"acoustic\"|\"live\"|\"co...  0.136364\n",
              "7  -N5eucPMTTc  \"zoe sugg\"|\"zoella\"|\"zoe\"|\"vlog\"|\"vlogging\"|\"v...  0.000000\n",
              "8  LMCuKltaY3M  \"Elbow\"|\"Golden\"|\"Slumbers\"|\"Polydor\"|\"Alterna...  0.300000\n",
              "9  9t9u_yPEidY  \"Jennifer Lopez ft. Wisin\"|\"Jennifer Lopez ft.... -0.002165"
            ]
          },
          "metadata": {
            "tags": []
          },
          "execution_count": 64
        }
      ]
    },
    {
      "cell_type": "code",
      "metadata": {
        "id": "Q2TWJ_v9qzw4"
      },
      "source": [
        "UKDataPn['tagpol']=UKTagsPandas['pol']"
      ],
      "execution_count": 65,
      "outputs": []
    },
    {
      "cell_type": "code",
      "metadata": {
        "id": "CoTqSpw2jHBa"
      },
      "source": [
        "tagcorUK=UKDataPn.dropna()"
      ],
      "execution_count": 66,
      "outputs": []
    },
    {
      "cell_type": "code",
      "metadata": {
        "colab": {
          "base_uri": "https://localhost:8080/"
        },
        "id": "GuZ_XOrUjMUM",
        "outputId": "fa052286-6cae-4735-8260-e021843a7742"
      },
      "source": [
        "stats.spearmanr(tagcorUK['views'],tagcorUK['tagpol'])"
      ],
      "execution_count": 67,
      "outputs": [
        {
          "output_type": "execute_result",
          "data": {
            "text/plain": [
              "SpearmanrResult(correlation=0.0012332540609657065, pvalue=0.8215416655382645)"
            ]
          },
          "metadata": {
            "tags": []
          },
          "execution_count": 67
        }
      ]
    },
    {
      "cell_type": "code",
      "metadata": {
        "colab": {
          "base_uri": "https://localhost:8080/"
        },
        "id": "yVJHzEhTuaW6",
        "outputId": "b54a3ffd-cfff-453a-e693-c450b5756ecd"
      },
      "source": [
        "stats.spearmanr(tagcorUK['ldr'],tagcorUK['tagpol'])"
      ],
      "execution_count": 68,
      "outputs": [
        {
          "output_type": "execute_result",
          "data": {
            "text/plain": [
              "SpearmanrResult(correlation=0.0007769682177099969, pvalue=0.8869949364726988)"
            ]
          },
          "metadata": {
            "tags": []
          },
          "execution_count": 68
        }
      ]
    },
    {
      "cell_type": "code",
      "metadata": {
        "colab": {
          "base_uri": "https://localhost:8080/"
        },
        "id": "W3jBTOfXrOmd",
        "outputId": "7928962e-94d7-4045-d4d7-4fa68acec07f"
      },
      "source": [
        "stats.spearmanr(tagcorUK['liker'],tagcorUK['tagpol'])"
      ],
      "execution_count": 69,
      "outputs": [
        {
          "output_type": "execute_result",
          "data": {
            "text/plain": [
              "SpearmanrResult(correlation=0.005178592555334629, pvalue=0.3435510373514441)"
            ]
          },
          "metadata": {
            "tags": []
          },
          "execution_count": 69
        }
      ]
    },
    {
      "cell_type": "code",
      "metadata": {
        "colab": {
          "base_uri": "https://localhost:8080/"
        },
        "id": "pKGGPwysrTkN",
        "outputId": "7811c5ba-6a43-41c8-d367-a85440c935a0"
      },
      "source": [
        "stats.spearmanr(tagcorUK['commr'],tagcorUK['tagpol'])"
      ],
      "execution_count": 70,
      "outputs": [
        {
          "output_type": "execute_result",
          "data": {
            "text/plain": [
              "SpearmanrResult(correlation=5.300778712696728e-05, pvalue=0.9922645208055461)"
            ]
          },
          "metadata": {
            "tags": []
          },
          "execution_count": 70
        }
      ]
    },
    {
      "cell_type": "code",
      "metadata": {
        "colab": {
          "base_uri": "https://localhost:8080/"
        },
        "id": "Xi7Kw3hCrpqN",
        "outputId": "87660f6b-c3b0-4cc2-f260-771a5b568c5b"
      },
      "source": [
        "UKtitle = UKData.select('video_id','title')\n",
        "UKtitle.show()"
      ],
      "execution_count": 71,
      "outputs": [
        {
          "output_type": "stream",
          "text": [
            "+-----------+--------------------+\n",
            "|   video_id|               title|\n",
            "+-----------+--------------------+\n",
            "|Jw1Y-zhQURU|John Lewis Christ...|\n",
            "|3s1rvMFUweQ|Taylor Swift: …Re...|\n",
            "|n1WpP7iowLc|Eminem - Walk On ...|\n",
            "|PUTEiSjKwJU|Goals from Salfor...|\n",
            "|rHwDegptbI4|Dashcam captures ...|\n",
            "|AumaWl0TNBo|How My Relationsh...|\n",
            "|2Vv-BfVoq4g|Ed Sheeran - Perf...|\n",
            "|-N5eucPMTTc|CHRISTMAS HAS GON...|\n",
            "|LMCuKltaY3M|Elbow - Golden Sl...|\n",
            "|9t9u_yPEidY|Jennifer Lopez - ...|\n",
            "|ONQ-fAp5X64|CAN BABIES DO GYM...|\n",
            "|Dlwf5u2BLAg|TV Reporter Inter...|\n",
            "|NVCqz2BDfcQ|Gucci Mane  - Cur...|\n",
            "|MyEqfBkzESU|EXTREME GOLDEN TA...|\n",
            "|b4vTZx_AtHk|How To Dry a Shir...|\n",
            "|BsfhHKx6ajA|Attracting An Alp...|\n",
            "|DIU3xPdhCBI|Sam Smith surpris...|\n",
            "|pz95u3UVpaM|Camila Cabello - ...|\n",
            "|jp9hK-jY6yY|When Someone Has ...|\n",
            "|gEHCXl4J9Qo|Taylor Swift - “N...|\n",
            "+-----------+--------------------+\n",
            "only showing top 20 rows\n",
            "\n"
          ],
          "name": "stdout"
        }
      ]
    },
    {
      "cell_type": "code",
      "metadata": {
        "id": "dU-Al76Or0HV"
      },
      "source": [
        "UKtitle = UKtitle[UKtitle['title']!=\"None\"]\n",
        "UKtitlePandas = UKtitle.toPandas()"
      ],
      "execution_count": 72,
      "outputs": []
    },
    {
      "cell_type": "code",
      "metadata": {
        "id": "6qRjm9S3sCXk"
      },
      "source": [
        "polTitle=[] # list which will contain the polarity of the titles\n",
        "for i in UKtitlePandas.title.values:\n",
        "    try:\n",
        "        analysis =TextBlob(i)\n",
        "        polTitle.append(analysis.sentiment.polarity)\n",
        "        \n",
        "    except:\n",
        "        polTitle.append(0)"
      ],
      "execution_count": 73,
      "outputs": []
    },
    {
      "cell_type": "code",
      "metadata": {
        "id": "NOkr3L9Qse4G"
      },
      "source": [
        "UKtitlePandas['pol']= polTitle"
      ],
      "execution_count": 74,
      "outputs": []
    },
    {
      "cell_type": "code",
      "metadata": {
        "id": "2soAn8wMsk3Q"
      },
      "source": [
        "UKDataPn['titlepol']=UKtitlePandas['pol']"
      ],
      "execution_count": 75,
      "outputs": []
    },
    {
      "cell_type": "code",
      "metadata": {
        "id": "5uVFMu3yswdX"
      },
      "source": [
        "titlecorUK=UKDataPn.dropna()"
      ],
      "execution_count": 76,
      "outputs": []
    },
    {
      "cell_type": "code",
      "metadata": {
        "colab": {
          "base_uri": "https://localhost:8080/"
        },
        "id": "fO0ljKyCs2he",
        "outputId": "507fad48-c2ec-4f12-f9a0-37ed2c2ed79c"
      },
      "source": [
        "stats.spearmanr(titlecorUK['views'],titlecorUK['titlepol'])"
      ],
      "execution_count": 77,
      "outputs": [
        {
          "output_type": "execute_result",
          "data": {
            "text/plain": [
              "SpearmanrResult(correlation=-0.004922439078149072, pvalue=0.3679495697386783)"
            ]
          },
          "metadata": {
            "tags": []
          },
          "execution_count": 77
        }
      ]
    },
    {
      "cell_type": "code",
      "metadata": {
        "colab": {
          "base_uri": "https://localhost:8080/"
        },
        "id": "xJLYPsFLs-ZR",
        "outputId": "ae730774-acdb-43cd-a2d8-dfab4f90d3e0"
      },
      "source": [
        "stats.spearmanr(titlecorUK['ldr'],titlecorUK['titlepol'])"
      ],
      "execution_count": 78,
      "outputs": [
        {
          "output_type": "execute_result",
          "data": {
            "text/plain": [
              "SpearmanrResult(correlation=-0.0005566860215831477, pvalue=0.9189011235165868)"
            ]
          },
          "metadata": {
            "tags": []
          },
          "execution_count": 78
        }
      ]
    },
    {
      "cell_type": "code",
      "metadata": {
        "colab": {
          "base_uri": "https://localhost:8080/"
        },
        "id": "gFkpBwSys-g0",
        "outputId": "81b616c6-3f12-4616-80da-7f16bbfa32c6"
      },
      "source": [
        "stats.spearmanr(titlecorUK['liker'],titlecorUK['titlepol'])"
      ],
      "execution_count": 79,
      "outputs": [
        {
          "output_type": "execute_result",
          "data": {
            "text/plain": [
              "SpearmanrResult(correlation=-0.0034525417461065606, pvalue=0.5277315484359706)"
            ]
          },
          "metadata": {
            "tags": []
          },
          "execution_count": 79
        }
      ]
    },
    {
      "cell_type": "code",
      "metadata": {
        "colab": {
          "base_uri": "https://localhost:8080/"
        },
        "id": "PHjCePHcs-m7",
        "outputId": "8fc28a33-1f15-4392-9548-38c63e1dd6cc"
      },
      "source": [
        "stats.spearmanr(titlecorUK['commr'],titlecorUK['titlepol'])"
      ],
      "execution_count": 80,
      "outputs": [
        {
          "output_type": "execute_result",
          "data": {
            "text/plain": [
              "SpearmanrResult(correlation=0.005073298727722843, pvalue=0.3534524118026323)"
            ]
          },
          "metadata": {
            "tags": []
          },
          "execution_count": 80
        }
      ]
    },
    {
      "cell_type": "code",
      "metadata": {
        "colab": {
          "base_uri": "https://localhost:8080/",
          "height": 991
        },
        "id": "YTZKtcxt8cqW",
        "outputId": "48787dad-952e-481b-f26f-f3fe1a717f87"
      },
      "source": [
        "UsDataPn.head(10)"
      ],
      "execution_count": 91,
      "outputs": [
        {
          "output_type": "execute_result",
          "data": {
            "text/html": [
              "<div>\n",
              "<style scoped>\n",
              "    .dataframe tbody tr th:only-of-type {\n",
              "        vertical-align: middle;\n",
              "    }\n",
              "\n",
              "    .dataframe tbody tr th {\n",
              "        vertical-align: top;\n",
              "    }\n",
              "\n",
              "    .dataframe thead th {\n",
              "        text-align: right;\n",
              "    }\n",
              "</style>\n",
              "<table border=\"1\" class=\"dataframe\">\n",
              "  <thead>\n",
              "    <tr style=\"text-align: right;\">\n",
              "      <th></th>\n",
              "      <th>video_id</th>\n",
              "      <th>trending_date</th>\n",
              "      <th>title</th>\n",
              "      <th>channel_title</th>\n",
              "      <th>category_id</th>\n",
              "      <th>publish_time</th>\n",
              "      <th>tags</th>\n",
              "      <th>views</th>\n",
              "      <th>likes</th>\n",
              "      <th>dislikes</th>\n",
              "      <th>comment_count</th>\n",
              "      <th>thumbnail_link</th>\n",
              "      <th>comments_disabled</th>\n",
              "      <th>ratings_disabled</th>\n",
              "      <th>video_error_or_removed</th>\n",
              "      <th>description</th>\n",
              "      <th>descPol</th>\n",
              "      <th>ldr</th>\n",
              "      <th>liker</th>\n",
              "      <th>commr</th>\n",
              "      <th>tagPol</th>\n",
              "      <th>titlePol</th>\n",
              "    </tr>\n",
              "  </thead>\n",
              "  <tbody>\n",
              "    <tr>\n",
              "      <th>0</th>\n",
              "      <td>2kyS6SvSYSE</td>\n",
              "      <td>17.14.11</td>\n",
              "      <td>WE WANT TO TALK ABOUT OUR MARRIAGE</td>\n",
              "      <td>CaseyNeistat</td>\n",
              "      <td>22</td>\n",
              "      <td>2017-11-13T17:13:01.000Z</td>\n",
              "      <td>SHANtell martin</td>\n",
              "      <td>748374.0</td>\n",
              "      <td>57527.0</td>\n",
              "      <td>2966.0</td>\n",
              "      <td>15954.0</td>\n",
              "      <td>https://i.ytimg.com/vi/2kyS6SvSYSE/default.jpg</td>\n",
              "      <td>False</td>\n",
              "      <td>False</td>\n",
              "      <td>False</td>\n",
              "      <td>SHANTELL'S CHANNEL - https://www.youtube.com/s...</td>\n",
              "      <td>-1.0</td>\n",
              "      <td>19.395482</td>\n",
              "      <td>0.076869</td>\n",
              "      <td>0.021318</td>\n",
              "      <td>0.000000</td>\n",
              "      <td>0.0000</td>\n",
              "    </tr>\n",
              "    <tr>\n",
              "      <th>1</th>\n",
              "      <td>1ZAPwfrtAFY</td>\n",
              "      <td>17.14.11</td>\n",
              "      <td>The Trump Presidency: Last Week Tonight with J...</td>\n",
              "      <td>LastWeekTonight</td>\n",
              "      <td>24</td>\n",
              "      <td>2017-11-13T07:30:00.000Z</td>\n",
              "      <td>\"last week tonight trump presidency\"|\"last wee...</td>\n",
              "      <td>2418783.0</td>\n",
              "      <td>97185.0</td>\n",
              "      <td>6146.0</td>\n",
              "      <td>12703.0</td>\n",
              "      <td>https://i.ytimg.com/vi/1ZAPwfrtAFY/default.jpg</td>\n",
              "      <td>False</td>\n",
              "      <td>False</td>\n",
              "      <td>False</td>\n",
              "      <td>One year after the presidential election, John...</td>\n",
              "      <td>1.0</td>\n",
              "      <td>15.812724</td>\n",
              "      <td>0.040179</td>\n",
              "      <td>0.005252</td>\n",
              "      <td>0.000000</td>\n",
              "      <td>0.0000</td>\n",
              "    </tr>\n",
              "    <tr>\n",
              "      <th>2</th>\n",
              "      <td>5qpjK5DgCt4</td>\n",
              "      <td>17.14.11</td>\n",
              "      <td>Racist Superman | Rudy Mancuso, King Bach &amp; Le...</td>\n",
              "      <td>Rudy Mancuso</td>\n",
              "      <td>23</td>\n",
              "      <td>2017-11-12T19:05:24.000Z</td>\n",
              "      <td>\"racist superman\"|\"rudy\"|\"mancuso\"|\"king\"|\"bac...</td>\n",
              "      <td>3191434.0</td>\n",
              "      <td>146033.0</td>\n",
              "      <td>5339.0</td>\n",
              "      <td>8181.0</td>\n",
              "      <td>https://i.ytimg.com/vi/5qpjK5DgCt4/default.jpg</td>\n",
              "      <td>False</td>\n",
              "      <td>False</td>\n",
              "      <td>False</td>\n",
              "      <td>WATCH MY PREVIOUS VIDEO ▶ \\n\\nSUBSCRIBE ► http...</td>\n",
              "      <td>1.0</td>\n",
              "      <td>27.352126</td>\n",
              "      <td>0.045758</td>\n",
              "      <td>0.002563</td>\n",
              "      <td>0.111111</td>\n",
              "      <td>0.0000</td>\n",
              "    </tr>\n",
              "    <tr>\n",
              "      <th>3</th>\n",
              "      <td>puqaWrEC7tY</td>\n",
              "      <td>17.14.11</td>\n",
              "      <td>Nickelback Lyrics: Real or Fake?</td>\n",
              "      <td>Good Mythical Morning</td>\n",
              "      <td>24</td>\n",
              "      <td>2017-11-13T11:00:04.000Z</td>\n",
              "      <td>\"rhett and link\"|\"gmm\"|\"good mythical morning\"...</td>\n",
              "      <td>343168.0</td>\n",
              "      <td>10172.0</td>\n",
              "      <td>666.0</td>\n",
              "      <td>2146.0</td>\n",
              "      <td>https://i.ytimg.com/vi/puqaWrEC7tY/default.jpg</td>\n",
              "      <td>False</td>\n",
              "      <td>False</td>\n",
              "      <td>False</td>\n",
              "      <td>Today we find out if Link is a Nickelback amat...</td>\n",
              "      <td>-1.0</td>\n",
              "      <td>15.273273</td>\n",
              "      <td>0.029641</td>\n",
              "      <td>0.006253</td>\n",
              "      <td>0.266667</td>\n",
              "      <td>-0.7500</td>\n",
              "    </tr>\n",
              "    <tr>\n",
              "      <th>4</th>\n",
              "      <td>d380meD0W0M</td>\n",
              "      <td>17.14.11</td>\n",
              "      <td>I Dare You: GOING BALD!?</td>\n",
              "      <td>nigahiga</td>\n",
              "      <td>24</td>\n",
              "      <td>2017-11-12T18:01:41.000Z</td>\n",
              "      <td>\"ryan\"|\"higa\"|\"higatv\"|\"nigahiga\"|\"i dare you\"...</td>\n",
              "      <td>2095731.0</td>\n",
              "      <td>132235.0</td>\n",
              "      <td>1989.0</td>\n",
              "      <td>17518.0</td>\n",
              "      <td>https://i.ytimg.com/vi/d380meD0W0M/default.jpg</td>\n",
              "      <td>False</td>\n",
              "      <td>False</td>\n",
              "      <td>False</td>\n",
              "      <td>I know it's been a while since we did this sho...</td>\n",
              "      <td>1.0</td>\n",
              "      <td>66.483157</td>\n",
              "      <td>0.063097</td>\n",
              "      <td>0.008359</td>\n",
              "      <td>-0.350000</td>\n",
              "      <td>0.0000</td>\n",
              "    </tr>\n",
              "    <tr>\n",
              "      <th>5</th>\n",
              "      <td>gHZ1Qz0KiKM</td>\n",
              "      <td>17.14.11</td>\n",
              "      <td>2 Weeks with iPhone X</td>\n",
              "      <td>iJustine</td>\n",
              "      <td>28</td>\n",
              "      <td>2017-11-13T19:07:23.000Z</td>\n",
              "      <td>\"ijustine\"|\"week with iPhone X\"|\"iphone x\"|\"ap...</td>\n",
              "      <td>119180.0</td>\n",
              "      <td>9763.0</td>\n",
              "      <td>511.0</td>\n",
              "      <td>1434.0</td>\n",
              "      <td>https://i.ytimg.com/vi/gHZ1Qz0KiKM/default.jpg</td>\n",
              "      <td>False</td>\n",
              "      <td>False</td>\n",
              "      <td>False</td>\n",
              "      <td>Using the iPhone for the past two weeks -- her...</td>\n",
              "      <td>1.0</td>\n",
              "      <td>19.105675</td>\n",
              "      <td>0.081918</td>\n",
              "      <td>0.012032</td>\n",
              "      <td>0.000000</td>\n",
              "      <td>0.0000</td>\n",
              "    </tr>\n",
              "    <tr>\n",
              "      <th>6</th>\n",
              "      <td>39idVpFF7NQ</td>\n",
              "      <td>17.14.11</td>\n",
              "      <td>Roy Moore &amp; Jeff Sessions Cold Open - SNL</td>\n",
              "      <td>Saturday Night Live</td>\n",
              "      <td>24</td>\n",
              "      <td>2017-11-12T05:37:17.000Z</td>\n",
              "      <td>\"SNL\"|\"Saturday Night Live\"|\"SNL Season 43\"|\"E...</td>\n",
              "      <td>2103417.0</td>\n",
              "      <td>15993.0</td>\n",
              "      <td>2445.0</td>\n",
              "      <td>1970.0</td>\n",
              "      <td>https://i.ytimg.com/vi/39idVpFF7NQ/default.jpg</td>\n",
              "      <td>False</td>\n",
              "      <td>False</td>\n",
              "      <td>False</td>\n",
              "      <td>Embattled Alabama Senate candidate Roy Moore (...</td>\n",
              "      <td>1.0</td>\n",
              "      <td>6.541104</td>\n",
              "      <td>0.007603</td>\n",
              "      <td>0.000937</td>\n",
              "      <td>0.112238</td>\n",
              "      <td>-0.3000</td>\n",
              "    </tr>\n",
              "    <tr>\n",
              "      <th>7</th>\n",
              "      <td>nc99ccSXST0</td>\n",
              "      <td>17.14.11</td>\n",
              "      <td>5 Ice Cream Gadgets put to the Test</td>\n",
              "      <td>CrazyRussianHacker</td>\n",
              "      <td>28</td>\n",
              "      <td>2017-11-12T21:50:37.000Z</td>\n",
              "      <td>\"5 Ice Cream Gadgets\"|\"Ice Cream\"|\"Cream Sandw...</td>\n",
              "      <td>817732.0</td>\n",
              "      <td>23663.0</td>\n",
              "      <td>778.0</td>\n",
              "      <td>3432.0</td>\n",
              "      <td>https://i.ytimg.com/vi/nc99ccSXST0/default.jpg</td>\n",
              "      <td>False</td>\n",
              "      <td>False</td>\n",
              "      <td>False</td>\n",
              "      <td>Ice Cream Pint Combination Lock - http://amzn....</td>\n",
              "      <td>-1.0</td>\n",
              "      <td>30.415167</td>\n",
              "      <td>0.028937</td>\n",
              "      <td>0.004197</td>\n",
              "      <td>0.000000</td>\n",
              "      <td>0.0000</td>\n",
              "    </tr>\n",
              "    <tr>\n",
              "      <th>8</th>\n",
              "      <td>jr9QtXwC9vc</td>\n",
              "      <td>17.14.11</td>\n",
              "      <td>The Greatest Showman | Official Trailer 2 [HD]...</td>\n",
              "      <td>20th Century Fox</td>\n",
              "      <td>1</td>\n",
              "      <td>2017-11-13T14:00:23.000Z</td>\n",
              "      <td>\"Trailer\"|\"Hugh Jackman\"|\"Michelle Williams\"|\"...</td>\n",
              "      <td>826059.0</td>\n",
              "      <td>3543.0</td>\n",
              "      <td>119.0</td>\n",
              "      <td>340.0</td>\n",
              "      <td>https://i.ytimg.com/vi/jr9QtXwC9vc/default.jpg</td>\n",
              "      <td>False</td>\n",
              "      <td>False</td>\n",
              "      <td>False</td>\n",
              "      <td>Inspired by the imagination of P.T. Barnum, Th...</td>\n",
              "      <td>1.0</td>\n",
              "      <td>29.773109</td>\n",
              "      <td>0.004289</td>\n",
              "      <td>0.000412</td>\n",
              "      <td>0.416000</td>\n",
              "      <td>0.5000</td>\n",
              "    </tr>\n",
              "    <tr>\n",
              "      <th>9</th>\n",
              "      <td>TUmyygCMMGA</td>\n",
              "      <td>17.14.11</td>\n",
              "      <td>Why the rise of the robots won’t mean the end ...</td>\n",
              "      <td>Vox</td>\n",
              "      <td>25</td>\n",
              "      <td>2017-11-13T13:45:16.000Z</td>\n",
              "      <td>\"vox.com\"|\"vox\"|\"explain\"|\"shift change\"|\"futu...</td>\n",
              "      <td>256426.0</td>\n",
              "      <td>12654.0</td>\n",
              "      <td>1363.0</td>\n",
              "      <td>2368.0</td>\n",
              "      <td>https://i.ytimg.com/vi/TUmyygCMMGA/default.jpg</td>\n",
              "      <td>False</td>\n",
              "      <td>False</td>\n",
              "      <td>False</td>\n",
              "      <td>For now, at least, we have better things to wo...</td>\n",
              "      <td>1.0</td>\n",
              "      <td>9.283933</td>\n",
              "      <td>0.049348</td>\n",
              "      <td>0.009235</td>\n",
              "      <td>0.000000</td>\n",
              "      <td>-0.3125</td>\n",
              "    </tr>\n",
              "  </tbody>\n",
              "</table>\n",
              "</div>"
            ],
            "text/plain": [
              "      video_id trending_date  ...    tagPol titlePol\n",
              "0  2kyS6SvSYSE      17.14.11  ...  0.000000   0.0000\n",
              "1  1ZAPwfrtAFY      17.14.11  ...  0.000000   0.0000\n",
              "2  5qpjK5DgCt4      17.14.11  ...  0.111111   0.0000\n",
              "3  puqaWrEC7tY      17.14.11  ...  0.266667  -0.7500\n",
              "4  d380meD0W0M      17.14.11  ... -0.350000   0.0000\n",
              "5  gHZ1Qz0KiKM      17.14.11  ...  0.000000   0.0000\n",
              "6  39idVpFF7NQ      17.14.11  ...  0.112238  -0.3000\n",
              "7  nc99ccSXST0      17.14.11  ...  0.000000   0.0000\n",
              "8  jr9QtXwC9vc      17.14.11  ...  0.416000   0.5000\n",
              "9  TUmyygCMMGA      17.14.11  ...  0.000000  -0.3125\n",
              "\n",
              "[10 rows x 22 columns]"
            ]
          },
          "metadata": {
            "tags": []
          },
          "execution_count": 91
        }
      ]
    },
    {
      "cell_type": "markdown",
      "metadata": {
        "id": "E6DVHk8c57U9"
      },
      "source": [
        "### **Generating Histograms**"
      ]
    },
    {
      "cell_type": "code",
      "metadata": {
        "id": "5Up-cnQn56Dp"
      },
      "source": [
        "#Converting the polarity values from continuous to categorical for US\n",
        "\n",
        "UsDataPnCat = UsDataPn\n",
        "\n",
        "UsDataPnCat['descPol'][UsDataPnCat.descPol==0]= 0\n",
        "UsDataPnCat['descPol'][UsDataPnCat.descPol > 0]= 1\n",
        "UsDataPnCat['descPol'][UsDataPnCat.descPol < 0]= -1\n",
        "\n",
        "UsDataPnCat['tagPol'][UsDataPnCat.tagPol==0]= 0\n",
        "UsDataPnCat['tagPol'][UsDataPnCat.tagPol > 0]= 1\n",
        "UsDataPnCat['tagPol'][UsDataPnCat.tagPol < 0]= -1\n",
        "\n",
        "UsDataPnCat['titlePol'][UsDataPnCat.titlePol==0]= 0\n",
        "UsDataPnCat['titlePol'][UsDataPnCat.titlePol > 0]= 1\n",
        "UsDataPnCat['titlePol'][UsDataPnCat.titlePol < 0]= -1"
      ],
      "execution_count": null,
      "outputs": []
    },
    {
      "cell_type": "code",
      "metadata": {
        "colab": {
          "base_uri": "https://localhost:8080/",
          "height": 991
        },
        "id": "8DYCkEAl8xRw",
        "outputId": "abf3ab5e-715e-40d1-fe98-4ce7370a9f68"
      },
      "source": [
        "UsDataPnCat.head(10)"
      ],
      "execution_count": 93,
      "outputs": [
        {
          "output_type": "execute_result",
          "data": {
            "text/html": [
              "<div>\n",
              "<style scoped>\n",
              "    .dataframe tbody tr th:only-of-type {\n",
              "        vertical-align: middle;\n",
              "    }\n",
              "\n",
              "    .dataframe tbody tr th {\n",
              "        vertical-align: top;\n",
              "    }\n",
              "\n",
              "    .dataframe thead th {\n",
              "        text-align: right;\n",
              "    }\n",
              "</style>\n",
              "<table border=\"1\" class=\"dataframe\">\n",
              "  <thead>\n",
              "    <tr style=\"text-align: right;\">\n",
              "      <th></th>\n",
              "      <th>video_id</th>\n",
              "      <th>trending_date</th>\n",
              "      <th>title</th>\n",
              "      <th>channel_title</th>\n",
              "      <th>category_id</th>\n",
              "      <th>publish_time</th>\n",
              "      <th>tags</th>\n",
              "      <th>views</th>\n",
              "      <th>likes</th>\n",
              "      <th>dislikes</th>\n",
              "      <th>comment_count</th>\n",
              "      <th>thumbnail_link</th>\n",
              "      <th>comments_disabled</th>\n",
              "      <th>ratings_disabled</th>\n",
              "      <th>video_error_or_removed</th>\n",
              "      <th>description</th>\n",
              "      <th>descPol</th>\n",
              "      <th>ldr</th>\n",
              "      <th>liker</th>\n",
              "      <th>commr</th>\n",
              "      <th>tagPol</th>\n",
              "      <th>titlePol</th>\n",
              "    </tr>\n",
              "  </thead>\n",
              "  <tbody>\n",
              "    <tr>\n",
              "      <th>0</th>\n",
              "      <td>2kyS6SvSYSE</td>\n",
              "      <td>17.14.11</td>\n",
              "      <td>WE WANT TO TALK ABOUT OUR MARRIAGE</td>\n",
              "      <td>CaseyNeistat</td>\n",
              "      <td>22</td>\n",
              "      <td>2017-11-13T17:13:01.000Z</td>\n",
              "      <td>SHANtell martin</td>\n",
              "      <td>748374.0</td>\n",
              "      <td>57527.0</td>\n",
              "      <td>2966.0</td>\n",
              "      <td>15954.0</td>\n",
              "      <td>https://i.ytimg.com/vi/2kyS6SvSYSE/default.jpg</td>\n",
              "      <td>False</td>\n",
              "      <td>False</td>\n",
              "      <td>False</td>\n",
              "      <td>SHANTELL'S CHANNEL - https://www.youtube.com/s...</td>\n",
              "      <td>-1.0</td>\n",
              "      <td>19.395482</td>\n",
              "      <td>0.076869</td>\n",
              "      <td>0.021318</td>\n",
              "      <td>0.0</td>\n",
              "      <td>0.0</td>\n",
              "    </tr>\n",
              "    <tr>\n",
              "      <th>1</th>\n",
              "      <td>1ZAPwfrtAFY</td>\n",
              "      <td>17.14.11</td>\n",
              "      <td>The Trump Presidency: Last Week Tonight with J...</td>\n",
              "      <td>LastWeekTonight</td>\n",
              "      <td>24</td>\n",
              "      <td>2017-11-13T07:30:00.000Z</td>\n",
              "      <td>\"last week tonight trump presidency\"|\"last wee...</td>\n",
              "      <td>2418783.0</td>\n",
              "      <td>97185.0</td>\n",
              "      <td>6146.0</td>\n",
              "      <td>12703.0</td>\n",
              "      <td>https://i.ytimg.com/vi/1ZAPwfrtAFY/default.jpg</td>\n",
              "      <td>False</td>\n",
              "      <td>False</td>\n",
              "      <td>False</td>\n",
              "      <td>One year after the presidential election, John...</td>\n",
              "      <td>1.0</td>\n",
              "      <td>15.812724</td>\n",
              "      <td>0.040179</td>\n",
              "      <td>0.005252</td>\n",
              "      <td>0.0</td>\n",
              "      <td>0.0</td>\n",
              "    </tr>\n",
              "    <tr>\n",
              "      <th>2</th>\n",
              "      <td>5qpjK5DgCt4</td>\n",
              "      <td>17.14.11</td>\n",
              "      <td>Racist Superman | Rudy Mancuso, King Bach &amp; Le...</td>\n",
              "      <td>Rudy Mancuso</td>\n",
              "      <td>23</td>\n",
              "      <td>2017-11-12T19:05:24.000Z</td>\n",
              "      <td>\"racist superman\"|\"rudy\"|\"mancuso\"|\"king\"|\"bac...</td>\n",
              "      <td>3191434.0</td>\n",
              "      <td>146033.0</td>\n",
              "      <td>5339.0</td>\n",
              "      <td>8181.0</td>\n",
              "      <td>https://i.ytimg.com/vi/5qpjK5DgCt4/default.jpg</td>\n",
              "      <td>False</td>\n",
              "      <td>False</td>\n",
              "      <td>False</td>\n",
              "      <td>WATCH MY PREVIOUS VIDEO ▶ \\n\\nSUBSCRIBE ► http...</td>\n",
              "      <td>1.0</td>\n",
              "      <td>27.352126</td>\n",
              "      <td>0.045758</td>\n",
              "      <td>0.002563</td>\n",
              "      <td>1.0</td>\n",
              "      <td>0.0</td>\n",
              "    </tr>\n",
              "    <tr>\n",
              "      <th>3</th>\n",
              "      <td>puqaWrEC7tY</td>\n",
              "      <td>17.14.11</td>\n",
              "      <td>Nickelback Lyrics: Real or Fake?</td>\n",
              "      <td>Good Mythical Morning</td>\n",
              "      <td>24</td>\n",
              "      <td>2017-11-13T11:00:04.000Z</td>\n",
              "      <td>\"rhett and link\"|\"gmm\"|\"good mythical morning\"...</td>\n",
              "      <td>343168.0</td>\n",
              "      <td>10172.0</td>\n",
              "      <td>666.0</td>\n",
              "      <td>2146.0</td>\n",
              "      <td>https://i.ytimg.com/vi/puqaWrEC7tY/default.jpg</td>\n",
              "      <td>False</td>\n",
              "      <td>False</td>\n",
              "      <td>False</td>\n",
              "      <td>Today we find out if Link is a Nickelback amat...</td>\n",
              "      <td>-1.0</td>\n",
              "      <td>15.273273</td>\n",
              "      <td>0.029641</td>\n",
              "      <td>0.006253</td>\n",
              "      <td>1.0</td>\n",
              "      <td>-1.0</td>\n",
              "    </tr>\n",
              "    <tr>\n",
              "      <th>4</th>\n",
              "      <td>d380meD0W0M</td>\n",
              "      <td>17.14.11</td>\n",
              "      <td>I Dare You: GOING BALD!?</td>\n",
              "      <td>nigahiga</td>\n",
              "      <td>24</td>\n",
              "      <td>2017-11-12T18:01:41.000Z</td>\n",
              "      <td>\"ryan\"|\"higa\"|\"higatv\"|\"nigahiga\"|\"i dare you\"...</td>\n",
              "      <td>2095731.0</td>\n",
              "      <td>132235.0</td>\n",
              "      <td>1989.0</td>\n",
              "      <td>17518.0</td>\n",
              "      <td>https://i.ytimg.com/vi/d380meD0W0M/default.jpg</td>\n",
              "      <td>False</td>\n",
              "      <td>False</td>\n",
              "      <td>False</td>\n",
              "      <td>I know it's been a while since we did this sho...</td>\n",
              "      <td>1.0</td>\n",
              "      <td>66.483157</td>\n",
              "      <td>0.063097</td>\n",
              "      <td>0.008359</td>\n",
              "      <td>-1.0</td>\n",
              "      <td>0.0</td>\n",
              "    </tr>\n",
              "    <tr>\n",
              "      <th>5</th>\n",
              "      <td>gHZ1Qz0KiKM</td>\n",
              "      <td>17.14.11</td>\n",
              "      <td>2 Weeks with iPhone X</td>\n",
              "      <td>iJustine</td>\n",
              "      <td>28</td>\n",
              "      <td>2017-11-13T19:07:23.000Z</td>\n",
              "      <td>\"ijustine\"|\"week with iPhone X\"|\"iphone x\"|\"ap...</td>\n",
              "      <td>119180.0</td>\n",
              "      <td>9763.0</td>\n",
              "      <td>511.0</td>\n",
              "      <td>1434.0</td>\n",
              "      <td>https://i.ytimg.com/vi/gHZ1Qz0KiKM/default.jpg</td>\n",
              "      <td>False</td>\n",
              "      <td>False</td>\n",
              "      <td>False</td>\n",
              "      <td>Using the iPhone for the past two weeks -- her...</td>\n",
              "      <td>1.0</td>\n",
              "      <td>19.105675</td>\n",
              "      <td>0.081918</td>\n",
              "      <td>0.012032</td>\n",
              "      <td>0.0</td>\n",
              "      <td>0.0</td>\n",
              "    </tr>\n",
              "    <tr>\n",
              "      <th>6</th>\n",
              "      <td>39idVpFF7NQ</td>\n",
              "      <td>17.14.11</td>\n",
              "      <td>Roy Moore &amp; Jeff Sessions Cold Open - SNL</td>\n",
              "      <td>Saturday Night Live</td>\n",
              "      <td>24</td>\n",
              "      <td>2017-11-12T05:37:17.000Z</td>\n",
              "      <td>\"SNL\"|\"Saturday Night Live\"|\"SNL Season 43\"|\"E...</td>\n",
              "      <td>2103417.0</td>\n",
              "      <td>15993.0</td>\n",
              "      <td>2445.0</td>\n",
              "      <td>1970.0</td>\n",
              "      <td>https://i.ytimg.com/vi/39idVpFF7NQ/default.jpg</td>\n",
              "      <td>False</td>\n",
              "      <td>False</td>\n",
              "      <td>False</td>\n",
              "      <td>Embattled Alabama Senate candidate Roy Moore (...</td>\n",
              "      <td>1.0</td>\n",
              "      <td>6.541104</td>\n",
              "      <td>0.007603</td>\n",
              "      <td>0.000937</td>\n",
              "      <td>1.0</td>\n",
              "      <td>-1.0</td>\n",
              "    </tr>\n",
              "    <tr>\n",
              "      <th>7</th>\n",
              "      <td>nc99ccSXST0</td>\n",
              "      <td>17.14.11</td>\n",
              "      <td>5 Ice Cream Gadgets put to the Test</td>\n",
              "      <td>CrazyRussianHacker</td>\n",
              "      <td>28</td>\n",
              "      <td>2017-11-12T21:50:37.000Z</td>\n",
              "      <td>\"5 Ice Cream Gadgets\"|\"Ice Cream\"|\"Cream Sandw...</td>\n",
              "      <td>817732.0</td>\n",
              "      <td>23663.0</td>\n",
              "      <td>778.0</td>\n",
              "      <td>3432.0</td>\n",
              "      <td>https://i.ytimg.com/vi/nc99ccSXST0/default.jpg</td>\n",
              "      <td>False</td>\n",
              "      <td>False</td>\n",
              "      <td>False</td>\n",
              "      <td>Ice Cream Pint Combination Lock - http://amzn....</td>\n",
              "      <td>-1.0</td>\n",
              "      <td>30.415167</td>\n",
              "      <td>0.028937</td>\n",
              "      <td>0.004197</td>\n",
              "      <td>0.0</td>\n",
              "      <td>0.0</td>\n",
              "    </tr>\n",
              "    <tr>\n",
              "      <th>8</th>\n",
              "      <td>jr9QtXwC9vc</td>\n",
              "      <td>17.14.11</td>\n",
              "      <td>The Greatest Showman | Official Trailer 2 [HD]...</td>\n",
              "      <td>20th Century Fox</td>\n",
              "      <td>1</td>\n",
              "      <td>2017-11-13T14:00:23.000Z</td>\n",
              "      <td>\"Trailer\"|\"Hugh Jackman\"|\"Michelle Williams\"|\"...</td>\n",
              "      <td>826059.0</td>\n",
              "      <td>3543.0</td>\n",
              "      <td>119.0</td>\n",
              "      <td>340.0</td>\n",
              "      <td>https://i.ytimg.com/vi/jr9QtXwC9vc/default.jpg</td>\n",
              "      <td>False</td>\n",
              "      <td>False</td>\n",
              "      <td>False</td>\n",
              "      <td>Inspired by the imagination of P.T. Barnum, Th...</td>\n",
              "      <td>1.0</td>\n",
              "      <td>29.773109</td>\n",
              "      <td>0.004289</td>\n",
              "      <td>0.000412</td>\n",
              "      <td>1.0</td>\n",
              "      <td>1.0</td>\n",
              "    </tr>\n",
              "    <tr>\n",
              "      <th>9</th>\n",
              "      <td>TUmyygCMMGA</td>\n",
              "      <td>17.14.11</td>\n",
              "      <td>Why the rise of the robots won’t mean the end ...</td>\n",
              "      <td>Vox</td>\n",
              "      <td>25</td>\n",
              "      <td>2017-11-13T13:45:16.000Z</td>\n",
              "      <td>\"vox.com\"|\"vox\"|\"explain\"|\"shift change\"|\"futu...</td>\n",
              "      <td>256426.0</td>\n",
              "      <td>12654.0</td>\n",
              "      <td>1363.0</td>\n",
              "      <td>2368.0</td>\n",
              "      <td>https://i.ytimg.com/vi/TUmyygCMMGA/default.jpg</td>\n",
              "      <td>False</td>\n",
              "      <td>False</td>\n",
              "      <td>False</td>\n",
              "      <td>For now, at least, we have better things to wo...</td>\n",
              "      <td>1.0</td>\n",
              "      <td>9.283933</td>\n",
              "      <td>0.049348</td>\n",
              "      <td>0.009235</td>\n",
              "      <td>0.0</td>\n",
              "      <td>-1.0</td>\n",
              "    </tr>\n",
              "  </tbody>\n",
              "</table>\n",
              "</div>"
            ],
            "text/plain": [
              "      video_id trending_date  ... tagPol titlePol\n",
              "0  2kyS6SvSYSE      17.14.11  ...    0.0      0.0\n",
              "1  1ZAPwfrtAFY      17.14.11  ...    0.0      0.0\n",
              "2  5qpjK5DgCt4      17.14.11  ...    1.0      0.0\n",
              "3  puqaWrEC7tY      17.14.11  ...    1.0     -1.0\n",
              "4  d380meD0W0M      17.14.11  ...   -1.0      0.0\n",
              "5  gHZ1Qz0KiKM      17.14.11  ...    0.0      0.0\n",
              "6  39idVpFF7NQ      17.14.11  ...    1.0     -1.0\n",
              "7  nc99ccSXST0      17.14.11  ...    0.0      0.0\n",
              "8  jr9QtXwC9vc      17.14.11  ...    1.0      1.0\n",
              "9  TUmyygCMMGA      17.14.11  ...    0.0     -1.0\n",
              "\n",
              "[10 rows x 22 columns]"
            ]
          },
          "metadata": {
            "tags": []
          },
          "execution_count": 93
        }
      ]
    },
    {
      "cell_type": "code",
      "metadata": {
        "colab": {
          "base_uri": "https://localhost:8080/",
          "height": 343
        },
        "id": "qME3xFYd7v10",
        "outputId": "f80eee29-a9d7-4f55-9e23-a249e28c948f"
      },
      "source": [
        "# Histogram of Description sentiments\n",
        "\n",
        "UsDataPnCat.descPol.value_counts().plot.bar()\n",
        "UsDataPnCat.descPol.value_counts()"
      ],
      "execution_count": 88,
      "outputs": [
        {
          "output_type": "execute_result",
          "data": {
            "text/plain": [
              " 1.0    26802\n",
              " 0.0     3367\n",
              "-1.0     3248\n",
              "Name: descPol, dtype: int64"
            ]
          },
          "metadata": {
            "tags": []
          },
          "execution_count": 88
        },
        {
          "output_type": "display_data",
          "data": {
            "image/png": "[encoded data removed]",
            "text/plain": [
              "<Figure size 432x288 with 1 Axes>"
            ]
          },
          "metadata": {
            "tags": [],
            "needs_background": "light"
          }
        }
      ]
    },
    {
      "cell_type": "code",
      "metadata": {
        "colab": {
          "base_uri": "https://localhost:8080/",
          "height": 343
        },
        "id": "vFyTqJUo7--k",
        "outputId": "788ef5c8-28d4-4a81-e682-48296f9c6275"
      },
      "source": [
        "# Histogram of Tag sentiments\n",
        "\n",
        "UsDataPnCat.tagPol.value_counts().plot.bar()\n",
        "UsDataPnCat.tagPol.value_counts()"
      ],
      "execution_count": 94,
      "outputs": [
        {
          "output_type": "execute_result",
          "data": {
            "text/plain": [
              " 1.0    17095\n",
              " 0.0    10397\n",
              "-1.0     6530\n",
              "Name: tagPol, dtype: int64"
            ]
          },
          "metadata": {
            "tags": []
          },
          "execution_count": 94
        },
        {
          "output_type": "display_data",
          "data": {
            "image/png": "[encoded data removed]",
            "text/plain": [
              "<Figure size 432x288 with 1 Axes>"
            ]
          },
          "metadata": {
            "tags": [],
            "needs_background": "light"
          }
        }
      ]
    },
    {
      "cell_type": "code",
      "metadata": {
        "colab": {
          "base_uri": "https://localhost:8080/",
          "height": 343
        },
        "id": "A_0x1fPM9cow",
        "outputId": "c58b1520-13d9-4f5c-a573-e4e4848c380a"
      },
      "source": [
        "# Histogram of Title sentiments\n",
        "\n",
        "UsDataPnCat.titlePol.value_counts().plot.bar()\n",
        "UsDataPnCat.titlePol.value_counts()"
      ],
      "execution_count": 96,
      "outputs": [
        {
          "output_type": "execute_result",
          "data": {
            "text/plain": [
              " 0.0    20466\n",
              " 1.0     9677\n",
              "-1.0     4862\n",
              "Name: titlePol, dtype: int64"
            ]
          },
          "metadata": {
            "tags": []
          },
          "execution_count": 96
        },
        {
          "output_type": "display_data",
          "data": {
            "image/png": "[encoded data removed]",
            "text/plain": [
              "<Figure size 432x288 with 1 Axes>"
            ]
          },
          "metadata": {
            "tags": [],
            "needs_background": "light"
          }
        }
      ]
    },
    {
      "cell_type": "code",
      "metadata": {
        "colab": {
          "base_uri": "https://localhost:8080/",
          "height": 431
        },
        "id": "n6extU-H-IGu",
        "outputId": "b585063f-393b-48c9-983b-6095c49eac8a"
      },
      "source": [
        "UKDataPn.head(4)"
      ],
      "execution_count": 98,
      "outputs": [
        {
          "output_type": "execute_result",
          "data": {
            "text/html": [
              "<div>\n",
              "<style scoped>\n",
              "    .dataframe tbody tr th:only-of-type {\n",
              "        vertical-align: middle;\n",
              "    }\n",
              "\n",
              "    .dataframe tbody tr th {\n",
              "        vertical-align: top;\n",
              "    }\n",
              "\n",
              "    .dataframe thead th {\n",
              "        text-align: right;\n",
              "    }\n",
              "</style>\n",
              "<table border=\"1\" class=\"dataframe\">\n",
              "  <thead>\n",
              "    <tr style=\"text-align: right;\">\n",
              "      <th></th>\n",
              "      <th>video_id</th>\n",
              "      <th>trending_date</th>\n",
              "      <th>title</th>\n",
              "      <th>channel_title</th>\n",
              "      <th>category_id</th>\n",
              "      <th>publish_time</th>\n",
              "      <th>tags</th>\n",
              "      <th>views</th>\n",
              "      <th>likes</th>\n",
              "      <th>dislikes</th>\n",
              "      <th>comment_count</th>\n",
              "      <th>thumbnail_link</th>\n",
              "      <th>comments_disabled</th>\n",
              "      <th>ratings_disabled</th>\n",
              "      <th>video_error_or_removed</th>\n",
              "      <th>description</th>\n",
              "      <th>descPol</th>\n",
              "      <th>ldr</th>\n",
              "      <th>liker</th>\n",
              "      <th>commr</th>\n",
              "      <th>tagpol</th>\n",
              "      <th>titlepol</th>\n",
              "    </tr>\n",
              "  </thead>\n",
              "  <tbody>\n",
              "    <tr>\n",
              "      <th>0</th>\n",
              "      <td>Jw1Y-zhQURU</td>\n",
              "      <td>17.14.11</td>\n",
              "      <td>John Lewis Christmas Ad 2017 - #MozTheMonster</td>\n",
              "      <td>John Lewis</td>\n",
              "      <td>26</td>\n",
              "      <td>2017-11-10T07:38:29.000Z</td>\n",
              "      <td>\"christmas\"|\"john lewis christmas\"|\"john lewis...</td>\n",
              "      <td>7224515.0</td>\n",
              "      <td>55681.0</td>\n",
              "      <td>10247.0</td>\n",
              "      <td>9479.0</td>\n",
              "      <td>https://i.ytimg.com/vi/Jw1Y-zhQURU/default.jpg</td>\n",
              "      <td>False</td>\n",
              "      <td>False</td>\n",
              "      <td>False</td>\n",
              "      <td>Click here to continue the story and make your...</td>\n",
              "      <td>1.0</td>\n",
              "      <td>5.433883</td>\n",
              "      <td>0.007707</td>\n",
              "      <td>0.001312</td>\n",
              "      <td>0.000000</td>\n",
              "      <td>0.000000</td>\n",
              "    </tr>\n",
              "    <tr>\n",
              "      <th>1</th>\n",
              "      <td>3s1rvMFUweQ</td>\n",
              "      <td>17.14.11</td>\n",
              "      <td>Taylor Swift: …Ready for It? (Live) - SNL</td>\n",
              "      <td>Saturday Night Live</td>\n",
              "      <td>24</td>\n",
              "      <td>2017-11-12T06:24:44.000Z</td>\n",
              "      <td>\"SNL\"|\"Saturday Night Live\"|\"SNL Season 43\"|\"E...</td>\n",
              "      <td>1053632.0</td>\n",
              "      <td>25561.0</td>\n",
              "      <td>2294.0</td>\n",
              "      <td>2757.0</td>\n",
              "      <td>https://i.ytimg.com/vi/3s1rvMFUweQ/default.jpg</td>\n",
              "      <td>False</td>\n",
              "      <td>False</td>\n",
              "      <td>False</td>\n",
              "      <td>Musical guest Taylor Swift performs …Ready for...</td>\n",
              "      <td>1.0</td>\n",
              "      <td>11.142546</td>\n",
              "      <td>0.024260</td>\n",
              "      <td>0.002617</td>\n",
              "      <td>0.188258</td>\n",
              "      <td>0.136364</td>\n",
              "    </tr>\n",
              "    <tr>\n",
              "      <th>2</th>\n",
              "      <td>n1WpP7iowLc</td>\n",
              "      <td>17.14.11</td>\n",
              "      <td>Eminem - Walk On Water (Audio) ft. Beyoncé</td>\n",
              "      <td>EminemVEVO</td>\n",
              "      <td>10</td>\n",
              "      <td>2017-11-10T17:00:03.000Z</td>\n",
              "      <td>\"Eminem\"|\"Walk\"|\"On\"|\"Water\"|\"Aftermath/Shady/...</td>\n",
              "      <td>17158579.0</td>\n",
              "      <td>787420.0</td>\n",
              "      <td>43420.0</td>\n",
              "      <td>125882.0</td>\n",
              "      <td>https://i.ytimg.com/vi/n1WpP7iowLc/default.jpg</td>\n",
              "      <td>False</td>\n",
              "      <td>False</td>\n",
              "      <td>False</td>\n",
              "      <td>Eminem's new track Walk on Water ft. Beyoncé i...</td>\n",
              "      <td>1.0</td>\n",
              "      <td>18.134961</td>\n",
              "      <td>0.045891</td>\n",
              "      <td>0.007336</td>\n",
              "      <td>0.000000</td>\n",
              "      <td>0.000000</td>\n",
              "    </tr>\n",
              "    <tr>\n",
              "      <th>3</th>\n",
              "      <td>PUTEiSjKwJU</td>\n",
              "      <td>17.14.11</td>\n",
              "      <td>Goals from Salford City vs Class of 92 and Fri...</td>\n",
              "      <td>Salford City Football Club</td>\n",
              "      <td>17</td>\n",
              "      <td>2017-11-13T02:30:38.000Z</td>\n",
              "      <td>\"Salford City FC\"|\"Salford City\"|\"Salford\"|\"Cl...</td>\n",
              "      <td>27833.0</td>\n",
              "      <td>193.0</td>\n",
              "      <td>12.0</td>\n",
              "      <td>37.0</td>\n",
              "      <td>https://i.ytimg.com/vi/PUTEiSjKwJU/default.jpg</td>\n",
              "      <td>False</td>\n",
              "      <td>False</td>\n",
              "      <td>False</td>\n",
              "      <td>Salford drew 4-4 against the Class of 92 and F...</td>\n",
              "      <td>1.0</td>\n",
              "      <td>16.083333</td>\n",
              "      <td>0.006934</td>\n",
              "      <td>0.001329</td>\n",
              "      <td>0.000000</td>\n",
              "      <td>0.000000</td>\n",
              "    </tr>\n",
              "  </tbody>\n",
              "</table>\n",
              "</div>"
            ],
            "text/plain": [
              "      video_id trending_date  ...    tagpol  titlepol\n",
              "0  Jw1Y-zhQURU      17.14.11  ...  0.000000  0.000000\n",
              "1  3s1rvMFUweQ      17.14.11  ...  0.188258  0.136364\n",
              "2  n1WpP7iowLc      17.14.11  ...  0.000000  0.000000\n",
              "3  PUTEiSjKwJU      17.14.11  ...  0.000000  0.000000\n",
              "\n",
              "[4 rows x 22 columns]"
            ]
          },
          "metadata": {
            "tags": []
          },
          "execution_count": 98
        }
      ]
    },
    {
      "cell_type": "code",
      "metadata": {
        "id": "x1tR0mHz9qqc"
      },
      "source": [
        "#Converting the polarity values from continuous to categorical for UK\n",
        "\n",
        "UKDataPnCat = UKDataPn\n",
        "\n",
        "UKDataPnCat['descPol'][UKDataPnCat.descPol==0]= 0\n",
        "UKDataPnCat['descPol'][UKDataPnCat.descPol > 0]= 1\n",
        "UKDataPnCat['descPol'][UKDataPnCat.descPol < 0]= -1\n",
        "\n",
        "UKDataPnCat['tagpol'][UKDataPnCat.tagpol==0]= 0\n",
        "UKDataPnCat['tagpol'][UKDataPnCat.tagpol > 0]= 1\n",
        "UKDataPnCat['tagpol'][UKDataPnCat.tagpol < 0]= -1\n",
        "\n",
        "UKDataPnCat['titlepol'][UKDataPnCat.titlepol==0]= 0\n",
        "UKDataPnCat['titlepol'][UKDataPnCat.titlepol > 0]= 1\n",
        "UKDataPnCat['titlepol'][UKDataPnCat.titlepol < 0]= -1"
      ],
      "execution_count": null,
      "outputs": []
    },
    {
      "cell_type": "code",
      "metadata": {
        "colab": {
          "base_uri": "https://localhost:8080/",
          "height": 343
        },
        "id": "sTB2NHSA-YIK",
        "outputId": "afbc2d64-c760-4bfa-8bc8-389a040be54c"
      },
      "source": [
        "# Histogram of Description sentiments of UK\n",
        "\n",
        "UKDataPnCat.descPol.value_counts().plot.bar()\n",
        "UKDataPnCat.descPol.value_counts()"
      ],
      "execution_count": 100,
      "outputs": [
        {
          "output_type": "execute_result",
          "data": {
            "text/plain": [
              " 1.0    24328\n",
              " 0.0     5514\n",
              "-1.0     3843\n",
              "Name: descPol, dtype: int64"
            ]
          },
          "metadata": {
            "tags": []
          },
          "execution_count": 100
        },
        {
          "output_type": "display_data",
          "data": {
            "image/png": "[encoded data removed]",
            "text/plain": [
              "<Figure size 432x288 with 1 Axes>"
            ]
          },
          "metadata": {
            "tags": [],
            "needs_background": "light"
          }
        }
      ]
    },
    {
      "cell_type": "code",
      "metadata": {
        "colab": {
          "base_uri": "https://localhost:8080/",
          "height": 344
        },
        "id": "oZa4E88e-csn",
        "outputId": "3d9d76ad-deb3-4ede-ee36-b36b50f5b455"
      },
      "source": [
        "# Histogram of Tag sentiments of UK\n",
        "\n",
        "UKDataPnCat.tagpol.value_counts().plot.bar()\n",
        "UKDataPnCat.tagpol.value_counts()"
      ],
      "execution_count": 101,
      "outputs": [
        {
          "output_type": "execute_result",
          "data": {
            "text/plain": [
              " 1.0    15440\n",
              " 0.0    12382\n",
              "-1.0     6536\n",
              "Name: tagpol, dtype: int64"
            ]
          },
          "metadata": {
            "tags": []
          },
          "execution_count": 101
        },
        {
          "output_type": "display_data",
          "data": {
            "image/png": "[encoded data removed]",
            "text/plain": [
              "<Figure size 432x288 with 1 Axes>"
            ]
          },
          "metadata": {
            "tags": [],
            "needs_background": "light"
          }
        }
      ]
    },
    {
      "cell_type": "code",
      "metadata": {
        "colab": {
          "base_uri": "https://localhost:8080/",
          "height": 343
        },
        "id": "k5_7A1OP-iWT",
        "outputId": "e51d8210-96d6-4e6d-ed9f-bb6db65bcf50"
      },
      "source": [
        "# Histogram of Title sentiments for UK\n",
        "\n",
        "UKDataPnCat.titlepol.value_counts().plot.bar()\n",
        "UKDataPnCat.titlepol.value_counts()"
      ],
      "execution_count": 102,
      "outputs": [
        {
          "output_type": "execute_result",
          "data": {
            "text/plain": [
              " 0.0    22082\n",
              " 1.0     8325\n",
              "-1.0     4406\n",
              "Name: titlepol, dtype: int64"
            ]
          },
          "metadata": {
            "tags": []
          },
          "execution_count": 102
        },
        {
          "output_type": "display_data",
          "data": {
            "image/png": "[encoded data removed]",
            "text/plain": [
              "<Figure size 432x288 with 1 Axes>"
            ]
          },
          "metadata": {
            "tags": [],
            "needs_background": "light"
          }
        }
      ]
    }
  ]
}